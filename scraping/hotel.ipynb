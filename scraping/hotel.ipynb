{
 "cells": [
  {
   "cell_type": "markdown",
   "metadata": {},
   "source": [
    "# Accommodation Price Predictions - Scraping from Booking.com"
   ]
  },
  {
   "cell_type": "code",
   "execution_count": 1,
   "metadata": {},
   "outputs": [
    {
     "name": "stdout",
     "output_type": "stream",
     "text": [
      "\n"
     ]
    }
   ],
   "source": [
    "# import webdriver\n",
    "from selenium import webdriver\n",
    "from selenium.webdriver.common.keys import Keys\n",
    "from selenium.webdriver.common.by import By\n",
    "from selenium.webdriver.chrome.options import Options\n",
    "from selenium.webdriver.chrome.service import Service\n",
    "from webdriver_manager.chrome import ChromeDriverManager\n",
    "from selenium.webdriver.support.ui import WebDriverWait\n",
    "from selenium.webdriver.support import expected_conditions as EC\n",
    "import time\n",
    "import numpy as np\n",
    "\n",
    "# Set options and create driver\n",
    "options = Options()\n",
    "options.add_argument(\"--start-maximized\")\n",
    "options.add_argument(\"--auto-open-devtools-for-tabs\")\n",
    "options.add_experimental_option(\"useAutomationExtension\", False)\n",
    "options.add_experimental_option(\"excludeSwitches\",[\"enable-automation\"])\n",
    "driver = webdriver.Chrome(service=Service(ChromeDriverManager().install()), options=options)"
   ]
  },
  {
   "cell_type": "code",
   "execution_count": 2,
   "metadata": {},
   "outputs": [],
   "source": [
    "driver.get('https://www.booking.com/searchresults.en-gb.html?label=gen173nr-1DCAEoggI46AdIM1gEaGKIAQGYAQm4ARfIAQzYAQPoAQGIAgGoAgO4Ar-a3pYGwAIB0gIkYjAxN2ZlMDQtYzllOC00NDBkLWE4OGEtNjlkNTc2MmEzZGY52AIE4AIB&sid=0f6c9c97b2e306e0e0d1f651895bb24d&sb=1&sb_lp=1&src=index&src_elem=sb&error_url=https%3A%2F%2Fwww.booking.com%2Findex.en-gb.html%3Flabel%3Dgen173nr-1DCAEoggI46AdIM1gEaGKIAQGYAQm4ARfIAQzYAQPoAQGIAgGoAgO4Ar-a3pYGwAIB0gIkYjAxN2ZlMDQtYzllOC00NDBkLWE4OGEtNjlkNTc2MmEzZGY52AIE4AIB%26sid%3D0f6c9c97b2e306e0e0d1f651895bb24d%26sb_price_type%3Dtotal%26%26&ss=Tokyo&is_ski_area=0&ssne=Tokyo&ssne_untouched=Tokyo&dest_id=-246227&dest_type=city&checkin_year=2022&checkin_month=8&checkin_monthday=7&checkout_year=2022&checkout_month=8&checkout_monthday=9&group_adults=1&group_children=0&no_rooms=1&b_h4u_keep_filters=&from_sf=1')"
   ]
  },
  {
   "cell_type": "code",
   "execution_count": 3,
   "metadata": {},
   "outputs": [
    {
     "name": "stdout",
     "output_type": "stream",
     "text": [
      "25\n",
      "HK$ 589\n",
      "Kita, Tokyo\n",
      "Entire apartment • 1 bedroom • 1 bathroom • 17m²\n",
      "1 double bed\n"
     ]
    }
   ],
   "source": [
    "container = driver.find_element(By.CLASS_NAME, 'd4924c9e74')\n",
    "items = container.find_elements(By.CSS_SELECTOR, 'div[data-testid=property-card]')\n",
    "print(len(items))\n",
    "price = items[0].find_element(By.CSS_SELECTOR, 'div[data-testid=price-and-discounted-price]').find_element(By.CLASS_NAME, 'fcab3ed991')\n",
    "location = items[0].find_element(By.CSS_SELECTOR, 'span[data-testid=address]')\n",
    "bed = items[0].find_element(By.CSS_SELECTOR, 'div[data-testid=\"recommended-units\"]').find_element(By.CLASS_NAME, 'cb5b4b68a4')\n",
    "print(price.text)\n",
    "print(location.text)\n",
    "print(bed.text)\n"
   ]
  },
  {
   "cell_type": "code",
   "execution_count": 4,
   "metadata": {},
   "outputs": [],
   "source": [
    "hotel_prices = []\n",
    "hotel_locations = []\n",
    "hotel_beds = []"
   ]
  },
  {
   "cell_type": "code",
   "execution_count": 5,
   "metadata": {},
   "outputs": [],
   "source": [
    "def page_scraping():\n",
    "    container = WebDriverWait(driver, 20).until(\n",
    "        EC.visibility_of_element_located((By.CLASS_NAME, 'd4924c9e74')))\n",
    "    items = container.find_elements(By.CSS_SELECTOR, 'div[data-testid=property-card]')\n",
    "    for item in items:\n",
    "        price = WebDriverWait(item, 20).until(\n",
    "            EC.visibility_of_element_located((By.CSS_SELECTOR, 'div[data-testid=price-and-discounted-price]'))).find_element(By.CLASS_NAME, 'fcab3ed991')\n",
    "        location = WebDriverWait(item, 20).until(\n",
    "            EC.visibility_of_element_located((By.CSS_SELECTOR, 'span[data-testid=address]')))\n",
    "        bed = WebDriverWait(item, 20).until(\n",
    "            EC.visibility_of_element_located((By.CSS_SELECTOR, 'div[data-testid=\"recommended-units\"]'))).find_element(By.CLASS_NAME, 'cb5b4b68a4')\n",
    "        hotel_prices.append(price.text)\n",
    "        hotel_locations.append(location.text)\n",
    "        hotel_beds.append(bed.text)"
   ]
  },
  {
   "cell_type": "code",
   "execution_count": 6,
   "metadata": {},
   "outputs": [],
   "source": [
    "def page_scrolling():\n",
    "    driver.execute_script(f\"window.scrollTo(0, document.body.scrollHeight/2)\")\n",
    "    time.sleep(3)\n",
    "    driver.execute_script(f\"window.scrollTo(0, document.body.scrollHeight*0.9)\")"
   ]
  },
  {
   "cell_type": "code",
   "execution_count": 7,
   "metadata": {},
   "outputs": [],
   "source": [
    "def page_clicking(x):\n",
    "    button = WebDriverWait(driver, 20).until(\n",
    "        EC.element_to_be_clickable((By.CSS_SELECTOR, f\"button[aria-label=' {x}']\")))\n",
    "    time.sleep(3)\n",
    "    button.click()"
   ]
  },
  {
   "cell_type": "code",
   "execution_count": 8,
   "metadata": {},
   "outputs": [],
   "source": [
    "def scraping_process():\n",
    "    i = 1\n",
    "    try:\n",
    "        while True:\n",
    "            time.sleep(5)\n",
    "            page_scraping()\n",
    "            print(f'done scraping {i} pages')\n",
    "            page_scrolling()\n",
    "            print(f'done scrolling {i} pages')\n",
    "            page_clicking(i+1)\n",
    "            print(f'done clicking {i} pages')\n",
    "            i += 1\n",
    "    except:\n",
    "        print('done scraping!')\n",
    "        driver.quit()"
   ]
  },
  {
   "cell_type": "code",
   "execution_count": 9,
   "metadata": {},
   "outputs": [
    {
     "name": "stdout",
     "output_type": "stream",
     "text": [
      "done scraping 1 pages\n",
      "done scrolling 1 pages\n",
      "done clicking 1 pages\n",
      "done scraping 2 pages\n",
      "done scrolling 2 pages\n",
      "done clicking 2 pages\n",
      "done scraping 3 pages\n",
      "done scrolling 3 pages\n",
      "done clicking 3 pages\n",
      "done scraping 4 pages\n",
      "done scrolling 4 pages\n",
      "done clicking 4 pages\n",
      "done scraping 5 pages\n",
      "done scrolling 5 pages\n",
      "done clicking 5 pages\n",
      "done scraping 6 pages\n",
      "done scrolling 6 pages\n",
      "done clicking 6 pages\n",
      "done scraping 7 pages\n",
      "done scrolling 7 pages\n",
      "done clicking 7 pages\n",
      "done scraping 8 pages\n",
      "done scrolling 8 pages\n",
      "done clicking 8 pages\n",
      "done scraping 9 pages\n",
      "done scrolling 9 pages\n",
      "done clicking 9 pages\n",
      "done scraping 10 pages\n",
      "done scrolling 10 pages\n",
      "done clicking 10 pages\n",
      "done scraping 11 pages\n",
      "done scrolling 11 pages\n",
      "done clicking 11 pages\n",
      "done scraping 12 pages\n",
      "done scrolling 12 pages\n",
      "done clicking 12 pages\n",
      "done scraping 13 pages\n",
      "done scrolling 13 pages\n",
      "done clicking 13 pages\n",
      "done scraping 14 pages\n",
      "done scrolling 14 pages\n",
      "done clicking 14 pages\n",
      "done scraping 15 pages\n",
      "done scrolling 15 pages\n",
      "done clicking 15 pages\n",
      "done scraping 16 pages\n",
      "done scrolling 16 pages\n",
      "done clicking 16 pages\n",
      "done scraping 17 pages\n",
      "done scrolling 17 pages\n",
      "done clicking 17 pages\n",
      "done scraping 18 pages\n",
      "done scrolling 18 pages\n",
      "done clicking 18 pages\n",
      "done scraping 19 pages\n",
      "done scrolling 19 pages\n",
      "done clicking 19 pages\n",
      "done scraping 20 pages\n",
      "done scrolling 20 pages\n",
      "done clicking 20 pages\n",
      "done scraping 21 pages\n",
      "done scrolling 21 pages\n",
      "done clicking 21 pages\n",
      "done scraping 22 pages\n",
      "done scrolling 22 pages\n",
      "done clicking 22 pages\n",
      "done scraping 23 pages\n",
      "done scrolling 23 pages\n",
      "done clicking 23 pages\n",
      "done scraping 24 pages\n",
      "done scrolling 24 pages\n",
      "done clicking 24 pages\n",
      "done scraping 25 pages\n",
      "done scrolling 25 pages\n",
      "done clicking 25 pages\n",
      "done scraping 26 pages\n",
      "done scrolling 26 pages\n",
      "done clicking 26 pages\n",
      "done scraping 27 pages\n",
      "done scrolling 27 pages\n",
      "done clicking 27 pages\n",
      "done scraping 28 pages\n",
      "done scrolling 28 pages\n",
      "done clicking 28 pages\n",
      "done scraping 29 pages\n",
      "done scrolling 29 pages\n",
      "done clicking 29 pages\n",
      "done scraping 30 pages\n",
      "done scrolling 30 pages\n",
      "done clicking 30 pages\n",
      "done scraping 31 pages\n",
      "done scrolling 31 pages\n",
      "done clicking 31 pages\n",
      "done scraping 32 pages\n",
      "done scrolling 32 pages\n",
      "done clicking 32 pages\n",
      "done scraping 33 pages\n",
      "done scrolling 33 pages\n",
      "done clicking 33 pages\n",
      "done scraping 34 pages\n",
      "done scrolling 34 pages\n",
      "done clicking 34 pages\n",
      "done scraping 35 pages\n",
      "done scrolling 35 pages\n",
      "done clicking 35 pages\n",
      "done scraping 36 pages\n",
      "done scrolling 36 pages\n",
      "done clicking 36 pages\n",
      "done scraping 37 pages\n",
      "done scrolling 37 pages\n",
      "done clicking 37 pages\n",
      "done scraping 38 pages\n",
      "done scrolling 38 pages\n",
      "done clicking 38 pages\n",
      "done scraping 39 pages\n",
      "done scrolling 39 pages\n",
      "done clicking 39 pages\n",
      "done scraping 40 pages\n",
      "done scrolling 40 pages\n",
      "done scraping!\n"
     ]
    }
   ],
   "source": [
    "scraping_process()"
   ]
  },
  {
   "cell_type": "code",
   "execution_count": 10,
   "metadata": {},
   "outputs": [
    {
     "data": {
      "text/html": [
       "<div>\n",
       "<style scoped>\n",
       "    .dataframe tbody tr th:only-of-type {\n",
       "        vertical-align: middle;\n",
       "    }\n",
       "\n",
       "    .dataframe tbody tr th {\n",
       "        vertical-align: top;\n",
       "    }\n",
       "\n",
       "    .dataframe thead th {\n",
       "        text-align: right;\n",
       "    }\n",
       "</style>\n",
       "<table border=\"1\" class=\"dataframe\">\n",
       "  <thead>\n",
       "    <tr style=\"text-align: right;\">\n",
       "      <th></th>\n",
       "      <th>Number of Beds</th>\n",
       "      <th>Location</th>\n",
       "      <th>Price (HKD)</th>\n",
       "    </tr>\n",
       "  </thead>\n",
       "  <tbody>\n",
       "    <tr>\n",
       "      <th>0</th>\n",
       "      <td>Entire apartment • 1 bedroom • 1 bathroom • 17...</td>\n",
       "      <td>Kita, Tokyo</td>\n",
       "      <td>HK$ 589</td>\n",
       "    </tr>\n",
       "    <tr>\n",
       "      <th>1</th>\n",
       "      <td>2 beds (1 double, 1 futon)</td>\n",
       "      <td>Taito, Tokyo</td>\n",
       "      <td>HK$ 621</td>\n",
       "    </tr>\n",
       "    <tr>\n",
       "      <th>2</th>\n",
       "      <td>Entire apartment • 1 bedroom • 1 living room •...</td>\n",
       "      <td>Shinagawa Ward, Tokyo</td>\n",
       "      <td>HK$ 1,807</td>\n",
       "    </tr>\n",
       "    <tr>\n",
       "      <th>3</th>\n",
       "      <td>Entire apartment • 1 bedroom • 1 bathroom\\n2 b...</td>\n",
       "      <td>Sumida Ward, Tokyo</td>\n",
       "      <td>HK$ 811</td>\n",
       "    </tr>\n",
       "    <tr>\n",
       "      <th>4</th>\n",
       "      <td>1 single bed</td>\n",
       "      <td>Taito, Tokyo</td>\n",
       "      <td>HK$ 378</td>\n",
       "    </tr>\n",
       "  </tbody>\n",
       "</table>\n",
       "</div>"
      ],
      "text/plain": [
       "                                      Number of Beds               Location  \\\n",
       "0  Entire apartment • 1 bedroom • 1 bathroom • 17...            Kita, Tokyo   \n",
       "1                         2 beds (1 double, 1 futon)           Taito, Tokyo   \n",
       "2  Entire apartment • 1 bedroom • 1 living room •...  Shinagawa Ward, Tokyo   \n",
       "3  Entire apartment • 1 bedroom • 1 bathroom\\n2 b...     Sumida Ward, Tokyo   \n",
       "4                                       1 single bed           Taito, Tokyo   \n",
       "\n",
       "  Price (HKD)  \n",
       "0     HK$ 589  \n",
       "1     HK$ 621  \n",
       "2   HK$ 1,807  \n",
       "3     HK$ 811  \n",
       "4     HK$ 378  "
      ]
     },
     "execution_count": 10,
     "metadata": {},
     "output_type": "execute_result"
    }
   ],
   "source": [
    "import pandas as pd\n",
    "df = pd.DataFrame({'Number of Beds': hotel_beds, 'Location': hotel_locations, 'Price (HKD)': hotel_prices})\n",
    "df.head()"
   ]
  },
  {
   "cell_type": "code",
   "execution_count": 11,
   "metadata": {},
   "outputs": [
    {
     "data": {
      "text/plain": [
       "(1000, 3)"
      ]
     },
     "execution_count": 11,
     "metadata": {},
     "output_type": "execute_result"
    }
   ],
   "source": [
    "df.shape"
   ]
  },
  {
   "cell_type": "code",
   "execution_count": 12,
   "metadata": {},
   "outputs": [],
   "source": [
    "df.to_csv('hotel_tokyo.csv', sep=',', index=False)"
   ]
  }
 ],
 "metadata": {
  "kernelspec": {
   "display_name": "Python 3.9.7 64-bit",
   "language": "python",
   "name": "python3"
  },
  "language_info": {
   "codemirror_mode": {
    "name": "ipython",
    "version": 3
   },
   "file_extension": ".py",
   "mimetype": "text/x-python",
   "name": "python",
   "nbconvert_exporter": "python",
   "pygments_lexer": "ipython3",
   "version": "3.9.7"
  },
  "orig_nbformat": 4,
  "vscode": {
   "interpreter": {
    "hash": "b1ffc42b7688ee54d4509547a2cb46af3c49bac4d5c1def4786231871a29c157"
   }
  }
 },
 "nbformat": 4,
 "nbformat_minor": 2
}
