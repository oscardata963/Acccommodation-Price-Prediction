{
 "cells": [
  {
   "cell_type": "code",
   "execution_count": 1,
   "metadata": {},
   "outputs": [
    {
     "name": "stderr",
     "output_type": "stream",
     "text": [
      "C:\\Users\\OSCARW~1\\AppData\\Local\\Temp/ipykernel_5184/1950913125.py:14: DeprecationWarning: executable_path has been deprecated, please pass in a Service object\n",
      "  driver = webdriver.Chrome(PATH, options=options)\n"
     ]
    }
   ],
   "source": [
    "# import webdriver\n",
    "from selenium import webdriver\n",
    "from selenium.webdriver.common.keys import Keys\n",
    "from selenium.webdriver.common.by import By\n",
    "import time\n",
    "import numpy as np\n",
    "# define path of the webdriver\n",
    "PATH = \"C:\\Program Files (x86)\\chromedriver.exe\"\n",
    "options = webdriver.ChromeOptions()\n",
    "options.add_argument(\"--lang=en\")\n",
    "options.add_argument(\"--start-maximized\")\n",
    "options. add_argument(\"--auto-open-devtools-for-tabs\")\n",
    "# create a driver instance by passing the driver path\n",
    "driver = webdriver.Chrome(PATH, options=options)"
   ]
  },
  {
   "cell_type": "code",
   "execution_count": 2,
   "metadata": {},
   "outputs": [],
   "source": [
    "driver.get('https://www.hotels.com/Hotel-Search?adults=2&d1=2022-07-31&d2=2022-08-01&destination=Hong%20Kong%2C%20Hong%20Kong%20Island%2C%20Hong%20Kong%20SAR&endDate=2022-08-01&latLong=22.28333%2C114.15875&regionId=184245&selected=&semdtl=&sort=RECOMMENDED&startDate=2022-07-31&theme=&useRewards=false&userIntent=')"
   ]
  },
  {
   "cell_type": "code",
   "execution_count": 3,
   "metadata": {},
   "outputs": [
    {
     "name": "stdout",
     "output_type": "stream",
     "text": [
      "done scrolling\n",
      "10942\n",
      "clicked show more\n",
      "19612\n",
      "done scrolling\n",
      "19612\n",
      "clicked show more\n",
      "27817\n",
      "done scrolling\n",
      "27817\n",
      "clicked show more\n",
      "36419\n",
      "done scrolling\n",
      "36419\n",
      "clicked show more\n",
      "45187\n",
      "done scrolling\n",
      "45187\n",
      "clicked show more\n",
      "53507\n",
      "done scrolling\n",
      "53507\n",
      "clicked show more\n",
      "60915\n",
      "done scrolling\n",
      "60915\n",
      "clicked show more\n",
      "68363\n",
      "done scrolling\n",
      "68363\n",
      "clicked show more\n",
      "75898\n",
      "done scrolling\n",
      "75898\n",
      "clicked show more\n",
      "83248\n",
      "done scrolling\n",
      "83248\n",
      "clicked show more\n",
      "85540\n",
      "done scrolling\n",
      "85540\n",
      "clicked show more\n",
      "85540\n",
      "done all\n"
     ]
    }
   ],
   "source": [
    "step_last_pos = 0\n",
    "while True:\n",
    "    while True:\n",
    "        time.sleep(3)\n",
    "        last_pos = driver.execute_script(\"return window.pageYOffset\")\n",
    "        driver.execute_script(f\"window.scrollTo(0, document.body.scrollHeight)\")\n",
    "        current_pos = driver.execute_script(\"return window.pageYOffset\")\n",
    "        if last_pos == current_pos:\n",
    "            print('done scrolling')\n",
    "            break\n",
    "    time.sleep(3)\n",
    "    step_last_pos = driver.execute_script(\"return document.body.scrollHeight\")\n",
    "    print(step_last_pos)\n",
    "    button = driver.find_element(By.XPATH, '//*[@id=\"app-layer-base\"]/div/main/div/div/div/div[1]/section/div/div[2]/div[2]/section[3]/button')\n",
    "    button.click()\n",
    "    print('clicked show more')\n",
    "    time.sleep(5)\n",
    "    step_current_pos = driver.execute_script(\"return document.body.scrollHeight\")\n",
    "    print(step_current_pos)\n",
    "    if step_last_pos == step_current_pos:\n",
    "        print('done all')\n",
    "        break"
   ]
  },
  {
   "cell_type": "markdown",
   "metadata": {},
   "source": [
    "//*[@id=\"app-layer-base\"]/div/main/div/div/div/div[1]/section/div/div[2]/div[2]/section[3]/button\n",
    "//*[@id=\"app-layer-base\"]/div/main/div/div/div/div[1]/section/div/div[2]/div[2]/section[3]/button\n",
    "//*[@id=\"app-layer-base\"]/div/main/div/div/div/div[1]/section/div/div[2]/div[2]/section[3]/button\n",
    "//*[@id=\"app-layer-base\"]/div/main/div/div/div/div[1]/section/div/div[2]/div[2]/section[3]/button"
   ]
  },
  {
   "cell_type": "code",
   "execution_count": 4,
   "metadata": {},
   "outputs": [
    {
     "name": "stdout",
     "output_type": "stream",
     "text": [
      "JW Marriott Hotel Hong Kong\n",
      "Photo gallery for JW Marriott Hotel Hong Kong\n",
      "Exterior\n",
      "Ad\n",
      "JW Marriott Hotel Hong Kong\n",
      "Admiralty\n",
      "Fully refundable\n",
      "Reserve now, pay later\n",
      "Collect stamps\n",
      "9.0/10Wonderful(1,000 reviews)\n",
      "9.0 out of 10 Wonderful (1,000 reviews)\n",
      "The price is HK$2,280\n",
      "HK$2,280\n",
      "HK$2,508 total\n",
      "Opens JW Marriott Hotel Hong Kong in new tab, return to original tab to proceed\n"
     ]
    }
   ],
   "source": [
    "time.sleep(5)\n",
    "table = driver.find_element(By.CLASS_NAME, 'results-list')\n",
    "items = table.find_elements(By.TAG_NAME, 'li')\n",
    "print(items[0].text)"
   ]
  },
  {
   "cell_type": "code",
   "execution_count": 5,
   "metadata": {},
   "outputs": [],
   "source": [
    "time.sleep(5)\n",
    "hotel_names = []\n",
    "hotel_locs = []\n",
    "hotel_prices = []\n",
    "hotel_ratings = []\n",
    "for item in items:\n",
    "    try:\n",
    "        hotel_name = item.find_element(By.TAG_NAME, 'h3')\n",
    "        hotel_loc = item.find_element(By.CLASS_NAME, 'uitk-text')\n",
    "        hotel_price = item.find_element(By.XPATH, './div/div/div[2]/div/div[2]/div[2]/div/div[1]/div/span/div')\n",
    "        hotel_rating = item.find_element(By.XPATH, './div/div/div[2]/div/div[2]/div[1]/div/div[2]/span[1]/span')\n",
    "        hotel_names.append(hotel_name.text)\n",
    "        hotel_locs.append(hotel_loc.text)\n",
    "        hotel_prices.append(hotel_price.text)\n",
    "        hotel_ratings.append(hotel_rating.text)\n",
    "    except:\n",
    "        continue"
   ]
  },
  {
   "cell_type": "code",
   "execution_count": 6,
   "metadata": {},
   "outputs": [
    {
     "name": "stdout",
     "output_type": "stream",
     "text": [
      "['Admiralty', 'Wan Chai', 'Sheung Wan', 'Causeway Bay', 'Central & Western District', 'Wan Chai', 'Central & Western District', 'Admiralty', 'Sheung Wan', 'North Point', 'Sheung Wan', 'Sheung Wan', 'Wan Chai', 'North Point', 'Wan Chai', 'Central & Western District', 'Wan Chai', 'Wan Chai', 'Admiralty', 'Causeway Bay', 'Sai Ying Pun', 'Wan Chai', 'Admiralty', 'North Point', 'North Point', 'Sheung Wan', 'Central & Western District', 'Causeway Bay', 'Causeway Bay', 'Wan Chai', 'Southern District', 'Sheung Wan', 'Central & Western District', 'Sheung Wan', 'Central & Western District', 'Wan Chai', 'Hong Kong', 'Sheung Wan', 'Causeway Bay', 'Central & Western District', 'Causeway Bay', 'Mid-Levels', 'Sheung Wan', 'Wan Chai', 'Wan Chai', 'Causeway Bay', 'Causeway Bay', 'Sai Ying Pun', 'Hong Kong', 'Wan Chai', 'Sheung Wan', 'Central & Western District', 'North Point', 'Tin Hau', 'Wan Chai', 'Wan Chai', 'Sheung Wan', 'Sheung Wan', 'Wan Chai', 'Sheung Wan', 'Sheung Wan', 'Hong Kong', 'Sai Ying Pun', 'Causeway Bay', 'Southern District', 'North Point', 'Chai Wan', 'Wan Chai', 'Causeway Bay', 'Sheung Wan', 'Causeway Bay', 'Causeway Bay', 'Wan Chai', 'Sheung Wan', 'Causeway Bay', 'Causeway Bay', 'Causeway Bay', 'Causeway Bay', 'Central & Western District', 'Causeway Bay', '1.85 km from Hong Kong', '1.86 km from Hong Kong', '1.92 km from Hong Kong', '1.94 km from Hong Kong', '1.98 km from Hong Kong', '1.98 km from Hong Kong', '1.99 km from Hong Kong', '2 km from Hong Kong', '2 km from Hong Kong', '2 km from Hong Kong', '2 km from Hong Kong', '2 km from Hong Kong', '2 km from Hong Kong', '2.01 km from Hong Kong', '2.01 km from Hong Kong', '2.01 km from Hong Kong', '2.01 km from Hong Kong', '2.01 km from Hong Kong', '2.01 km from Hong Kong', '2.01 km from Hong Kong', '2.01 km from Hong Kong', '2.01 km from Hong Kong', '2.01 km from Hong Kong', '2.01 km from Hong Kong', '2.01 km from Hong Kong', '2.01 km from Hong Kong', '2.01 km from Hong Kong', '2.01 km from Hong Kong', '2.02 km from Hong Kong', '2.02 km from Hong Kong', '2.02 km from Hong Kong', '2.02 km from Hong Kong', '2.02 km from Hong Kong', '2.02 km from Hong Kong', '2.02 km from Hong Kong', '2.02 km from Hong Kong', '2.02 km from Hong Kong', '2.02 km from Hong Kong', '2.02 km from Hong Kong', '2.02 km from Hong Kong', '2.02 km from Hong Kong', '2.02 km from Hong Kong', '2.02 km from Hong Kong', '2.02 km from Hong Kong', '2.02 km from Hong Kong', '2.03 km from Hong Kong', '2.03 km from Hong Kong', '2.03 km from Hong Kong', '2.03 km from Hong Kong', '2.03 km from Hong Kong', '2.03 km from Hong Kong', '2.03 km from Hong Kong', '2.03 km from Hong Kong', '2.03 km from Hong Kong', '2.03 km from Hong Kong', '2.03 km from Hong Kong', '2.03 km from Hong Kong', '2.03 km from Hong Kong', '2.03 km from Hong Kong', '2.03 km from Hong Kong', '2.04 km from Hong Kong', '2.04 km from Hong Kong', '2.04 km from Hong Kong', '2.04 km from Hong Kong', '2.04 km from Hong Kong', '2.04 km from Hong Kong', '2.05 km from Hong Kong', '2.05 km from Hong Kong', '2.06 km from Hong Kong', '2.06 km from Hong Kong', '2.06 km from Hong Kong', '2.07 km from Hong Kong', '2.07 km from Hong Kong', '2.07 km from Hong Kong', '2.07 km from Hong Kong', '2.08 km from Hong Kong', '2.08 km from Hong Kong', '2.08 km from Hong Kong', '2.09 km from Hong Kong', '2.1 km from Hong Kong', '2.11 km from Hong Kong', '2.11 km from Hong Kong', '2.11 km from Hong Kong', '2.13 km from Hong Kong', '2.19 km from Hong Kong', '2.2 km from Hong Kong', '2.23 km from Hong Kong', '2.24 km from Hong Kong', '2.27 km from Hong Kong', '2.3 km from Hong Kong', '2.3 km from Hong Kong', '2.35 km from Hong Kong', '2.37 km from Hong Kong', '2.39 km from Hong Kong', '2.39 km from Hong Kong', '2.42 km from Hong Kong', '2.43 km from Hong Kong', '2.44 km from Hong Kong', '2.45 km from Hong Kong', '2.5 km from Hong Kong', '2.5 km from Hong Kong', '2.54 km from Hong Kong', '2.57 km from Hong Kong', '2.57 km from Hong Kong', '2.58 km from Hong Kong', '2.59 km from Hong Kong', '2.66 km from Hong Kong', '2.75 km from Hong Kong', '2.76 km from Hong Kong', '2.76 km from Hong Kong', '2.77 km from Hong Kong', '2.77 km from Hong Kong', '2.8 km from Hong Kong', '2.81 km from Hong Kong', '2.86 km from Hong Kong', '2.91 km from Hong Kong', '2.92 km from Hong Kong', '2.99 km from Hong Kong', '3.03 km from Hong Kong', '3.05 km from Hong Kong', '3.06 km from Hong Kong', '3.09 km from Hong Kong', '3.19 km from Hong Kong', '3.25 km from Hong Kong', '3.27 km from Hong Kong', '3.31 km from Hong Kong', '3.35 km from Hong Kong', '3.37 km from Hong Kong', '3.45 km from Hong Kong', '3.56 km from Hong Kong', '3.59 km from Hong Kong', '3.62 km from Hong Kong', '3.73 km from Hong Kong', '3.76 km from Hong Kong', '3.8 km from Hong Kong', '3.82 km from Hong Kong', '3.88 km from Hong Kong', '3.89 km from Hong Kong', '3.96 km from Hong Kong', '4.02 km from Hong Kong', '4.02 km from Hong Kong', '4.02 km from Hong Kong', '4.1 km from Hong Kong', '4.2 km from Hong Kong', '4.3 km from Hong Kong', '4.31 km from Hong Kong', '4.35 km from Hong Kong', '4.4 km from Hong Kong', '4.4 km from Hong Kong', '4.4 km from Hong Kong', '4.41 km from Hong Kong', '4.41 km from Hong Kong', '4.53 km from Hong Kong', '4.56 km from Hong Kong', '4.59 km from Hong Kong', '4.69 km from Hong Kong', '4.73 km from Hong Kong', '4.83 km from Hong Kong', '4.86 km from Hong Kong', '5.45 km from Hong Kong', '5.47 km from Hong Kong', '5.63 km from Hong Kong', '6.31 km from Hong Kong', '6.85 km from Hong Kong', '6.9 km from Hong Kong', '7.36 km from Hong Kong', '7.96 km from Hong Kong', '8.22 km from Hong Kong', '8.28 km from Hong Kong', '8.48 km from Hong Kong', '8.96 km from Hong Kong', '9.71 km from Hong Kong', '10.58 km from Hong Kong', '10.78 km from Hong Kong', '11.7 km from Hong Kong', '12.26 km from Hong Kong', '12.33 km from Hong Kong', '12.4 km from Hong Kong', '12.57 km from Hong Kong', '13.64 km from Hong Kong', '15.16 km from Hong Kong', '15.33 km from Hong Kong', '15.49 km from Hong Kong', '15.64 km from Hong Kong', '16.67 km from Hong Kong', '20.03 km from Hong Kong', '21.92 km from Hong Kong', '22.01 km from Hong Kong', '22.61 km from Hong Kong', '22.89 km from Hong Kong', '22.91 km from Hong Kong', '23.76 km from Hong Kong', '24.04 km from Hong Kong', '25.06 km from Hong Kong', '25.73 km from Hong Kong', '26.04 km from Hong Kong']\n",
      "['JW Marriott Hotel Hong Kong', 'The Hari Hong Kong', 'iclub Sheung Wan Hotel', 'The Park Lane Hong Kong, a Pullman Hotel', 'Four Seasons Hotel Hong Kong', 'The Hari Hong Kong', 'Mandarin Oriental, Hong Kong', 'Island Shangri-La, Hong Kong', 'Butterfly on Wellington Boutique Hotel Central', 'Harbour Grand Hong Kong', 'ibis Hong Kong Central And Sheung Wan', 'Madera Hollywood', 'The Harbourview', 'Shama Island North Hong Kong', 'Grand Hyatt Hong Kong', 'Two MacDonnell Road', 'The Fleming Hong Kong', 'The Emperor Hotel', 'The Upper House', 'Regal Hongkong Hotel', 'The Connaught', 'Burlington Hotel', 'JW Marriott Hotel Hong Kong', 'Hyatt Centric Victoria Harbour Hong Kong', 'Harbour Plaza North Point', 'Sohotel', 'The Murray, Hong Kong, a Niccolo Hotel', 'Mini Hotel Causeway Bay Hong Kong', 'Rosedale Hotel Hong Kong', 'Wifi Boutique Hotel', 'The Arca', 'Travelodge Central Hollywood Road', 'Garden View Hong Kong', 'iclub AMTD Sheung Wan Hotel', 'Butterfly on LKF Boutique Hotel Central', 'The St. Regis Hong Kong', 'Holiday Inn Express Causeway Bay Hong Kong, an IHG Hotel', '99 Bonham', 'MY Hotel', 'The Pottinger Hong Kong', 'Elysion Place Hotel Causeway Bay', 'Bishop Lei International House', 'One96', 'Wanchai 88 Hotel', 'Crafa Harbour Hotel', 'Star City Hotel - Causeway Bay', '9 Boutique Hotel', 'WE Hotel', 'Hotel Ease Causeway Bay', 'MUSE X HOTEL', 'the Figo', 'Mini Central', 'M1 Hotel North Point', 'Tuve', 'Gloucester Luk Kwok Hong Kong', 'iclub Wan Chai Hotel', 'Homy Central', 'The Mercer', 'Kew Green Hotel Wanchai HK', 'Mingle Place At The Eden', 'The Putman', 'Caritas Oswald Cheung International House', 'Eco Tree Hotel', 'Twenty One Whitfield', 'Bluejay Residences', 'Homy Inn North Point', 'Y Loft Youth Square', 'Mingle Place With The Star', 'Seasons Hotel - Causeway Bay', 'Akvo Hotel', 'Comfort Hostel', 'Apple Inn (Causeway Bay)', 'Eaton Residences, Wan Chai Gap Road', 'The Jervois', 'Tong Luo Wan Hostel', 'Sweet Heart Guest House', 'Soso Hostel', 'Timehouse Hong Kong Hostel Group', 'Hong Kong Island YHA Jockey Club Mt. Davis Youth Hostel', 'The House-Baguio', 'The Salisbury - YMCA of Hong Kong', 'The Peninsula Hong Kong', 'Hotel Pravo Hong Kong', 'Sheraton Hong Kong Hotel & Towers', 'The Imperial Hotel', 'K11 Artus', 'Taj Super Deluxe', 'Pay-Less Guest House - Hostel', 'Unique Hostel', 'Everest Inn Guest House', 'New Tokyo Hostel', 'Rosewood Hong Kong', 'Everest Hostel', 'Skylark Hostel', 'Russian Hotel', 'Everest Base Camp Hostel', 'Dhillon Hotel - Hostel', 'Days Hotel HK - Hostel', 'Day And Night Hotel - Hostel', 'Australian Guest House', 'Sydney Hostel', 'Euro Hostel', 'Tokyo Hostel', 'Australia Lounge', 'Hi-Inn', 'Marrigold Hostel', 'Philippine Hostel', 'Ashoka Hostel', 'Manila Lounge', 'Everest Guest House', 'Delta Hotel', 'New London Hostel', 'New Reliance Inn', 'Hotel Skycity', 'Narli Guest House', 'Holland Guest House', 'Whole Sunshine International Hotel', 'Hostel Venus', 'New Grand Guest House', 'Osaka Hostel', 'Kingdom Guest House', 'D Red Loft', 'Hong Kong Budget Hostel', 'Manila Hotel - Hostel', 'Kyoto Guest House', 'TWH - Tai Wan Hotel', 'European Hostel', 'Paris Guest House - Hostel', 'Payless Guest House A-2', 'Cebu Hotel', 'Woodstock Hostel', 'Rich Hotel', 'Swiss Hostel', 'Mabuhay Hotel', \"Traveller's Hostel\", 'Hotel Skyview', 'Hotel Skystar', 'Melbourne Hostel', 'New Guangzhou Guesthouse - Hostel', 'Kabayan Hostel', 'Paris Guest House', 'Singh Guest House', \"W's Lounge\", 'Everest Hostel Block E', 'Om Guest House', 'City HK Guest House', 'Downtown Backpackers Hostel', 'Crystal Hostel', 'Seasons Hotel - Tsim sha tsui', 'Asia Inn', 'New Yan Yan Guest House', 'Metrocity Lounge', 'Germany Hostel', 'Merryland Guest House', 'Well Yet Guest House', 'Hostel 16', 'Legend Guest House', 'Hong Kong Premium Guest House', 'Pearl Premium Guest House', 'Sandhu guest house', 'Modern', 'Victoria Inn', 'Sleep Inn', 'California Hotel', 'Xi Hotel', 'Ring Wood Guest House', 'The Otto Hotel', 'Hyatt Regency Hong Kong, Tsim Sha Tsui', 'The Nap Tsim Sha Tsui', 'The Ritz Carlton Hong Kong', 'Hotel Hart', 'Star City Hotel - Tsim Sha Tsui', 'The Mira Hong Kong Hotel', 'Attitude On Granville', 'Dadol Hotel', 'B P International', 'Kowloon Shangri-La, Hong Kong', 'Soravit on Granville', 'The Kimberley Hotel', 'The Luxe Manor', 'The Perkin Hotel', 'Park Hotel Hong Kong', 'Nuts Hotel', 'Stanford Hillview Hotel', 'Best Western Plus Hotel Kowloon', 'The Royal Garden', 'Prudential Hotel', 'Popway Hotel', 'Page148', 'South & North House', 'InterContinental Grand Stanford Hong Kong, an IHG Hotel', 'Hang Ho Hostel', 'New World Millennium Hong Kong Hotel', 'Goodrich Hotel', 'Hotel ICON', 'Hotel Madera Hong Kong', 'Largos Hotel', 'Travelodge Kowloon', 'Nathan Hotel', 'Hotel Stage', 'Eaton HK', 'Micro Hotel', 'Harbour Plaza Metropolis', 'Homy Residence', 'Yesinn @YMT', 'Bridal Tea House Hotel Yau Ma Tei Arthur Street', 'Caritas Bianchi Lodge', 'Casa Hotel', 'M1 Yau Ma Tei Hotel', 'Kowloon Harbourfront Hotel', 'The Cityview', 'Holiday Inn Express Hong Kong Mongkok, an IHG Hotel', 'Hilton Garden Inn Hong Kong Mongkok', 'HK Mingdu Hostel', 'MK STAY(formerly HOTEL MK)', 'Harbour Inn', 'Kong Hing Guest House', 'Mong Kok Guo Du Hostel', 'Fortune Hotel', 'Hotel 108', 'Stanford Hotel', 'Harbour Grand Kowloon', 'Chi Shing Hostel', 'Metroplace Olympic Hotel', 'Lodgewood by Nina Hospitality丨Mong Kok', 'Sober Hotel', 'Summit View Kowloon', 'Mei Wah Guesthouse', 'B&B Mongkok Hotel', \"Hong Kong Astronaut's Hotel\", 'Prince Hotel', 'Geo Home Holiday Hotel', 'Metropark Hotel Mongkok', 'Le Prabelle Hotel', 'Oriental Lander Hotel', 'Hotel 1936', 'VP Apartments', 'Lander Hotel Prince Edward', 'Royal Plaza Hotel', 'E Hotel Hong Kong', 'Harbour Plaza 8 Degrees', 'YHA Mei Ho House Youth Hostel', 'Heritage Lodge', 'IW Hotel', 'IND Hotel', 'Holiday Inn Express Hong Kong Kowloon CBD2, an IHG Hotel', 'Bali Holiday Resort', 'Concerto Inn', 'Rambler Oasis Hotel', 'Winland 800 Hotel', 'Hotel Ease Access Tsuen Wan', 'Hotel Ease Tsuen Wan', 'Nina Hotel Tsuen Wan West', 'Holiday Inn Express Kowloon East, an IHG Hotel', 'Regal Riverside Hotel', 'Alva Hotel By Royal', 'Hong Kong Disneyland Hotel', \"Noah's Ark Hotel & Resort\", 'Disney Explorers Lodge', 'The Pier Hotel', 'Auberge Discovery Bay Hong Kong', 'Hyatt Regency Hong Kong, Sha Tin', 'Warwick Hotel', 'B&B Cheung Chau', 'Silvermine Beach Resort', 'Hong Kong Gold Coast Hotel', 'Sheraton Hong Kong Tung Chung', 'YHA Bradbury Jockey Club Tai Mei Tuk Youth Hostel', 'The Silveri Hong Kong - MGallery', 'Hotel COZi ·Resort', 'Pentahotel Hong Kong, Tuen Mun', 'City Oasis Guesthouse', 'The Cove Hostel - Tong Fuk Octopus', 'Harbour Plaza Resort City', 'YHA Ngong Ping SG Davis Youth Hostel', 'Hotel COZi ·Wetland']\n",
      "['HK$2,280', 'HK$1,063', 'HK$448', 'HK$1,062', 'HK$2,816', 'HK$1,063', 'HK$2,100', 'HK$1,800', 'HK$713', 'HK$914', 'HK$551', 'HK$1,089', 'HK$732', 'HK$600', 'HK$1,680', 'HK$1,696', 'HK$914', 'HK$393', 'HK$3,460', 'HK$936', 'HK$3,440', 'HK$517', 'HK$2,280', 'HK$960', 'HK$570', 'HK$706', 'HK$1,968', 'HK$287', 'HK$359', 'HK$764', 'HK$1,174', 'HK$329', 'HK$455', 'HK$425', 'HK$562', 'HK$2,900', 'HK$570', 'HK$1,035', 'HK$409', 'HK$1,083', 'HK$770', 'HK$364', 'HK$1,362', 'HK$559', 'HK$940', 'HK$581', 'HK$318', 'HK$585', 'HK$1,020', 'HK$600', 'HK$567', 'HK$269', 'HK$487', 'HK$990', 'HK$1,464', 'HK$800', 'HK$636', 'HK$1,782', 'HK$473', 'HK$471', 'HK$1,991', 'HK$483', 'HK$576', 'HK$1,045', 'HK$361', 'HK$455', 'HK$397', 'HK$545', 'HK$425', 'HK$1,260', 'HK$407', 'HK$250', 'HK$1,122', 'HK$1,308', 'HK$285', 'HK$475', 'HK$285', 'HK$475', 'HK$402', 'HK$273', 'HK$585', 'HK$4,080', 'HK$545', 'HK$1,280', 'HK$379', 'HK$7,000', 'HK$227', 'HK$264', 'HK$229', 'HK$350', 'HK$310', 'HK$3,800', 'HK$286', 'HK$321', 'HK$350', 'HK$364', 'HK$275', 'HK$273', 'HK$472', 'HK$315', 'HK$248', 'HK$350', 'HK$350', 'HK$345', 'HK$321', 'HK$341', 'HK$225', 'HK$345', 'HK$409', 'HK$318', 'HK$345', 'HK$372', 'HK$2,716', 'HK$324', 'HK$350', 'HK$225', 'HK$618', 'HK$332', 'HK$309', 'HK$298', 'HK$499', 'HK$550', 'HK$326', 'HK$424', 'HK$261', 'HK$321', 'HK$385', 'HK$415', 'HK$363', 'HK$148', 'HK$345', 'HK$321', 'HK$458', 'HK$372', 'HK$345', 'HK$332', 'HK$321', 'HK$303', 'HK$245', 'HK$372', 'HK$356', 'HK$343', 'HK$148', 'HK$270', 'HK$363', 'HK$326', 'HK$345', 'HK$219', 'HK$418', 'HK$409', 'HK$272', 'HK$98', 'HK$508', 'HK$614', 'HK$371', 'HK$272', 'HK$420', 'HK$348', 'HK$268', 'HK$350', 'HK$383', 'HK$391', 'HK$339', 'HK$418', 'HK$594', 'HK$474', 'HK$492', 'HK$880', 'HK$329', 'HK$2,900', 'HK$455', 'HK$529', 'HK$861', 'HK$424', 'HK$382', 'HK$389', 'HK$990', 'HK$479', 'HK$352', 'HK$768', 'HK$678', 'HK$792', 'HK$800', 'HK$608', 'HK$456', 'HK$670', 'HK$506', 'HK$498', 'HK$738', 'HK$302', 'HK$880', 'HK$618', 'HK$927', 'HK$425', 'HK$1,650', 'HK$520', 'HK$770', 'HK$355', 'HK$688', 'HK$590', 'HK$600', 'HK$275', 'HK$680', 'HK$1,000', 'HK$232', 'HK$432', 'HK$545', 'HK$532', 'HK$442', 'HK$832', 'HK$550', 'HK$653', 'HK$620', 'HK$538', 'HK$507', 'HK$469', 'HK$656', 'HK$589', 'HK$344', 'HK$480', 'HK$522', 'HK$960', 'HK$614', 'HK$509', 'HK$487', 'HK$557', 'HK$459', 'HK$636', 'HK$455', 'HK$295', 'HK$318', 'HK$409', 'HK$513', 'HK$614', 'HK$362', 'HK$586', 'HK$726', 'HK$368', 'HK$763', 'HK$787', 'HK$520', 'HK$545', 'HK$412', 'HK$518', 'HK$655', 'HK$736', 'HK$421', 'HK$636', 'HK$343', 'HK$297', 'HK$360', 'HK$542', 'HK$742', 'HK$665', 'HK$450', 'HK$661', 'HK$3,104', 'HK$1,350', 'HK$2,835', 'HK$1,966', 'HK$7,401', 'HK$880', 'HK$2,370', 'HK$610', 'HK$2,191', 'HK$1,848', 'HK$2,450', 'HK$773', 'HK$1,440', 'HK$511', 'HK$400', 'HK$1,082', 'HK$395', 'HK$516', 'HK$386', 'HK$461']\n",
      "['9.0/10', '9.0/10', '8.2/10', '8.2/10', '9.4/10', '9.0/10', '9.6/10', '9.2/10', '8.8/10', '8.6/10', '8.4/10', '9.2/10', '7.8/10', '8.2/10', '9.4/10', '8.8/10', '9.0/10', '8.2/10', '9.6/10', '7.6/10', '8.2/10', '8.6/10', '9.0/10', '8.4/10', '8.0/10', '8.0/10', '9.4/10', '7.2/10', '7.2/10', '7.2/10', '8.2/10', '7.8/10', '8.0/10', '8.4/10', '8.6/10', '9.6/10', '7.8/10', '8.8/10', '7.4/10', '9.2/10', '8.0/10', '8.0/10', '8.8/10', '8.4/10', '8.0/10', '6.4/10', '5.4/10', '8.6/10', '8.2/10', '4.0/10', '8.6/10', '7.0/10', '7.0/10', '8.8/10', '8.6/10', '7.8/10', '7.4/10', '8.6/10', '8.4/10', '6.6/10', '8.6/10', '7.2/10', '8.8/10', '8.0/10', '6.8/10', '7.4/10', '8.2/10', '7.4/10', '5.6/10', '8.6/10', '6.0/10', '5.4/10', '8.2/10', '9.2/10', '6.6/10', '6.2/10', '6.2/10', '6.6/10', '7.8/10', '3.4/10', '8.8/10', '9.4/10', '6.6/10', '8.6/10', '6.2/10', '9.4/10', '2.6/10', '2.8/10', '6.2/10', '5.8/10', '6.2/10', '9.2/10', '6.4/10', '5.8/10', '5.6/10', '5.8/10', '4.8/10', '5.2/10', '4.6/10', '6.0/10', '5.8/10', '5.6/10', '4.8/10', '6.0/10', '7.0/10', '6.0/10', '5.4/10', '5.8/10', '6.0/10', '6.2/10', '6.2/10', '4.8/10', '4.2/10', '6.0/10', '6.2/10', '6.4/10', '6.4/10', '7.0/10', '5.8/10', '5.2/10', '5.4/10', '6.4/10', '5.0/10', '5.2/10', '6.8/10', '3.0/10', '7.0/10', '4.2/10', '6.0/10', '6.0/10', '5.2/10', '6.4/10', '7.2/10', '4.6/10', '7.0/10', '5.8/10', '5.8/10', '4.0/10', '6.2/10', '5.8/10', '4.0/10', '2.0/10', '6.2/10', '6.0/10', '4.2/10', '5.4/10', '6.0/10', '2.0/10', '5.8/10', '2.0/10', '5.6/10', '5.0/10', '4.6/10', '6.8/10', '5.6/10', '3.4/10', '7.2/10', '7.0/10', '7.0/10', '7.0/10', '8.0/10', '8.2/10', '7.6/10', '5.0/10', '7.6/10', '7.8/10', '9.0/10', '8.8/10', '7.4/10', '9.4/10', '7.8/10', '5.8/10', '8.6/10', '8.4/10', '6.4/10', '7.8/10', '9.2/10', '8.2/10', '7.4/10', '8.8/10', '8.8/10', '8.6/10', '5.8/10', '8.4/10', '6.2/10', '8.4/10', '8.0/10', '8.2/10', '9.0/10', '7.6/10', '8.8/10', '8.0/10', '8.8/10', '6.4/10', '9.2/10', '8.4/10', '7.6/10', '7.8/10', '8.4/10', '9.2/10', '8.6/10', '3.8/10', '7.8/10', '8.2/10', '7.2/10', '6.6/10', '7.8/10', '6.8/10', '6.8/10', '7.8/10', '8.0/10', '8.2/10', '8.4/10', '6.4/10', '5.8/10', '5.8/10', '8.2/10', '8.6/10', '6.4/10', '8.4/10', '8.0/10', '8.6/10', '5.0/10', '6.6/10', '8.4/10', '7.6/10', '8.4/10', '8.0/10', '6.4/10', '6.2/10', '5.0/10', '7.0/10', '8.2/10', '8.4/10', '6.6/10', '8.2/10', '7.0/10', '6.6/10', '8.8/10', '7.8/10', '7.6/10', '8.4/10', '7.8/10', '7.4/10', '8.2/10', '8.4/10', '7.6/10', '7.2/10', '6.2/10', '5.0/10', '7.2/10', '8.4/10', '7.8/10', '8.0/10', '7.6/10', '8.8/10', '8.8/10', '7.4/10', '8.8/10', '8.4/10', '8.6/10', '8.6/10', '7.4/10', '7.6/10', '7.2/10', '8.4/10', '8.8/10', '7.2/10', '8.0/10', '7.8/10', '8.2/10', '8.8/10', '7.0/10', '7.8/10', '7.4/10', '8.0/10']\n",
      "276\n",
      "276\n",
      "276\n",
      "276\n"
     ]
    }
   ],
   "source": [
    "print(hotel_locs)\n",
    "print(hotel_names)\n",
    "print(hotel_prices)\n",
    "print(hotel_ratings)\n",
    "print(len(hotel_locs))\n",
    "print(len(hotel_names))\n",
    "print(len(hotel_prices))\n",
    "print(len(hotel_ratings))"
   ]
  },
  {
   "cell_type": "code",
   "execution_count": 7,
   "metadata": {},
   "outputs": [
    {
     "data": {
      "text/html": [
       "<div>\n",
       "<style scoped>\n",
       "    .dataframe tbody tr th:only-of-type {\n",
       "        vertical-align: middle;\n",
       "    }\n",
       "\n",
       "    .dataframe tbody tr th {\n",
       "        vertical-align: top;\n",
       "    }\n",
       "\n",
       "    .dataframe thead th {\n",
       "        text-align: right;\n",
       "    }\n",
       "</style>\n",
       "<table border=\"1\" class=\"dataframe\">\n",
       "  <thead>\n",
       "    <tr style=\"text-align: right;\">\n",
       "      <th></th>\n",
       "      <th>Hotel Name</th>\n",
       "      <th>Price Per Night</th>\n",
       "      <th>Location</th>\n",
       "      <th>Average Rating</th>\n",
       "    </tr>\n",
       "  </thead>\n",
       "  <tbody>\n",
       "    <tr>\n",
       "      <th>0</th>\n",
       "      <td>JW Marriott Hotel Hong Kong</td>\n",
       "      <td>2280</td>\n",
       "      <td>Admiralty</td>\n",
       "      <td>9.0</td>\n",
       "    </tr>\n",
       "    <tr>\n",
       "      <th>1</th>\n",
       "      <td>The Hari Hong Kong</td>\n",
       "      <td>1063</td>\n",
       "      <td>Wan Chai</td>\n",
       "      <td>9.0</td>\n",
       "    </tr>\n",
       "    <tr>\n",
       "      <th>2</th>\n",
       "      <td>iclub Sheung Wan Hotel</td>\n",
       "      <td>448</td>\n",
       "      <td>Sheung Wan</td>\n",
       "      <td>8.2</td>\n",
       "    </tr>\n",
       "    <tr>\n",
       "      <th>3</th>\n",
       "      <td>The Park Lane Hong Kong, a Pullman Hotel</td>\n",
       "      <td>1062</td>\n",
       "      <td>Causeway Bay</td>\n",
       "      <td>8.2</td>\n",
       "    </tr>\n",
       "    <tr>\n",
       "      <th>4</th>\n",
       "      <td>Four Seasons Hotel Hong Kong</td>\n",
       "      <td>2816</td>\n",
       "      <td>Central &amp; Western District</td>\n",
       "      <td>9.4</td>\n",
       "    </tr>\n",
       "  </tbody>\n",
       "</table>\n",
       "</div>"
      ],
      "text/plain": [
       "                                 Hotel Name Price Per Night  \\\n",
       "0               JW Marriott Hotel Hong Kong            2280   \n",
       "1                        The Hari Hong Kong            1063   \n",
       "2                    iclub Sheung Wan Hotel             448   \n",
       "3  The Park Lane Hong Kong, a Pullman Hotel            1062   \n",
       "4              Four Seasons Hotel Hong Kong            2816   \n",
       "\n",
       "                     Location Average Rating  \n",
       "0                   Admiralty            9.0  \n",
       "1                    Wan Chai            9.0  \n",
       "2                  Sheung Wan            8.2  \n",
       "3                Causeway Bay            8.2  \n",
       "4  Central & Western District            9.4  "
      ]
     },
     "execution_count": 7,
     "metadata": {},
     "output_type": "execute_result"
    }
   ],
   "source": [
    "import pandas as pd\n",
    "df = pd.DataFrame({'Hotel Name': hotel_names, 'Price Per Night': hotel_prices, 'Location': hotel_locs, 'Average Rating': hotel_ratings})\n",
    "df['Price Per Night'] = df['Price Per Night'].str.split('$', expand=True)[1]\n",
    "df['Price Per Night'] = df['Price Per Night'].str.replace(',', '')\n",
    "df['Average Rating'] = df['Average Rating'].str.split('/', expand=True)[0]\n",
    "df.head()"
   ]
  },
  {
   "cell_type": "code",
   "execution_count": 8,
   "metadata": {},
   "outputs": [],
   "source": [
    "df['Average Rating'] = df['Average Rating'].astype('float64')\n",
    "df['Price Per Night'] = df['Price Per Night'].astype('float64')"
   ]
  },
  {
   "cell_type": "code",
   "execution_count": 9,
   "metadata": {},
   "outputs": [],
   "source": [
    "def loc_replace(x):\n",
    "    if 'Hong Kong' in x:\n",
    "        x = np.nan\n",
    "    return x\n",
    "\n",
    "df['Location'] = df['Location'].apply(loc_replace)"
   ]
  },
  {
   "cell_type": "code",
   "execution_count": 10,
   "metadata": {},
   "outputs": [],
   "source": [
    "group_location = df.groupby('Location')\n",
    "\n",
    "location_rating = group_location['Average Rating'].mean().sort_values(ascending=True)\n",
    "location_price = group_location['Price Per Night'].mean().sort_values(ascending=True)"
   ]
  },
  {
   "cell_type": "code",
   "execution_count": 11,
   "metadata": {},
   "outputs": [
    {
     "data": {
      "image/png": "[encoded data removed]",
      "text/plain": [
       "<Figure size 864x576 with 2 Axes>"
      ]
     },
     "metadata": {
      "needs_background": "light"
     },
     "output_type": "display_data"
    }
   ],
   "source": [
    "import matplotlib.pyplot as plt\n",
    "fig = plt.figure(figsize=(12,8))\n",
    "ax1 = fig.add_subplot(1,2,1)\n",
    "ax1.barh(location_rating.index, location_rating.values)\n",
    "ax1.set_xlabel('Mean Rating')\n",
    "ax1.set_title('Mean Rating by Location')\n",
    "ax2 = fig.add_subplot(1,2,2)\n",
    "ax2.barh(location_price.index, location_price.values)\n",
    "ax2.set_xlabel('Mean Price')\n",
    "ax2.set_title('Mean Price by Location')\n",
    "fig.supylabel('Location')\n",
    "plt.tight_layout()"
   ]
  },
  {
   "cell_type": "code",
   "execution_count": 12,
   "metadata": {},
   "outputs": [],
   "source": [
    "df.to_csv('hotels.csv', index=False)"
   ]
  }
 ],
 "metadata": {
  "kernelspec": {
   "display_name": "Python 3.9.7 64-bit",
   "language": "python",
   "name": "python3"
  },
  "language_info": {
   "codemirror_mode": {
    "name": "ipython",
    "version": 3
   },
   "file_extension": ".py",
   "mimetype": "text/x-python",
   "name": "python",
   "nbconvert_exporter": "python",
   "pygments_lexer": "ipython3",
   "version": "3.9.7"
  },
  "orig_nbformat": 4,
  "vscode": {
   "interpreter": {
    "hash": "b1ffc42b7688ee54d4509547a2cb46af3c49bac4d5c1def4786231871a29c157"
   }
  }
 },
 "nbformat": 4,
 "nbformat_minor": 2
}
