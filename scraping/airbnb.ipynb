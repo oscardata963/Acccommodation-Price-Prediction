{
 "cells": [
  {
   "cell_type": "markdown",
   "metadata": {},
   "source": [
    "# Project 1: Accommodation Price Predictions\n",
    "\n",
    "Accommodation costs share a significant portion of travellers' expenses. People always want to look for the best deals with rooms that fit their needs and preferences. However, with over thousands of choices over the Internet, people easily fall into a never-ending cycle of trying to manually targeting the best price. An intuitive and convenient solution to this common conundrum is to create a price estimator that does the cumbersome job for these travellers.\n",
    "\n",
    "This project aims at building an accommodation price estimator that inputs relevant features about the stays and predicts their prices corresponding to these preferences. The collection of data requires web scraping on popular accommodation sites for a specific location, date and number of guests. To ensure consistency, the accommodations for 1 adult in Tokyo, Japan at a specific date will be explored and used as the input data."
   ]
  },
  {
   "cell_type": "code",
   "execution_count": 1,
   "metadata": {},
   "outputs": [
    {
     "name": "stderr",
     "output_type": "stream",
     "text": [
      "C:\\Users\\OSCARW~1\\AppData\\Local\\Temp/ipykernel_9672/479822320.py:16: DeprecationWarning: executable_path has been deprecated, please pass in a Service object\n",
      "  driver = webdriver.Chrome(PATH, options=options)\n"
     ]
    }
   ],
   "source": [
    "# import webdriver\n",
    "from selenium import webdriver\n",
    "from selenium.webdriver.common.keys import Keys\n",
    "from selenium.webdriver.common.by import By\n",
    "from selenium.webdriver.support.ui import WebDriverWait\n",
    "from selenium.webdriver.support import expected_conditions as EC\n",
    "import time\n",
    "import numpy as np\n",
    "# define path of the webdriver\n",
    "PATH = \"C:\\Program Files (x86)\\chromedriver.exe\"\n",
    "options = webdriver.ChromeOptions()\n",
    "options.add_argument(\"--lang=en\")\n",
    "options.add_argument(\"--start-maximized\")\n",
    "options. add_argument(\"--auto-open-devtools-for-tabs\")\n",
    "# create a driver instance by passing the driver path\n",
    "driver = webdriver.Chrome(PATH, options=options)"
   ]
  },
  {
   "cell_type": "code",
   "execution_count": 2,
   "metadata": {},
   "outputs": [],
   "source": [
    "driver.get('https://www.airbnb.com/s/Tokyo--Japan/homes?tab_id=home_tab&refinement_paths%5B%5D=%2Fhomes&flexible_trip_lengths%5B%5D=one_week&place_id=ChIJ51cu8IcbXWARiRtXIothAS4&date_picker_type=calendar&checkin=2022-08-04&checkout=2022-08-06&adults=1&source=structured_search_input_header&search_type=autocomplete_click')"
   ]
  },
  {
   "cell_type": "code",
   "execution_count": 3,
   "metadata": {},
   "outputs": [],
   "source": [
    "try:\n",
    "    grid = WebDriverWait(driver, 20).until(\n",
    "        EC.presence_of_element_located((By.XPATH, '//*[@id=\"site-content\"]/div/div/div/div/div/div/div/div[5]/div/div[2]/div/div[3]/div/div/div/div/div/div/div/div/div'))\n",
    "    )\n",
    "except:\n",
    "    driver.quit"
   ]
  },
  {
   "cell_type": "code",
   "execution_count": 4,
   "metadata": {},
   "outputs": [],
   "source": [
    "items = grid.find_elements(By.CLASS_NAME, 'c4mnd7m')"
   ]
  },
  {
   "cell_type": "code",
   "execution_count": 5,
   "metadata": {},
   "outputs": [
    {
     "name": "stdout",
     "output_type": "stream",
     "text": [
      "1 of 6 items showing\n",
      "Rare find\n",
      "Hotel room in Chuo City\n",
      "Comfybed Ginza Long Term Stay Welcome Spacious Beds Single\n",
      "1 small double bed\n",
      "$37 \n",
      "$32\n",
      " night\n",
      "$32 per night, originally $37\n",
      "·\n",
      "$64 total\n",
      "$64 total\n",
      "View price breakdown\n",
      "4.6 (113)\n"
     ]
    }
   ],
   "source": [
    "print(items[0].text)"
   ]
  },
  {
   "cell_type": "code",
   "execution_count": 6,
   "metadata": {},
   "outputs": [],
   "source": [
    "bnb_descriptions = []\n",
    "bnb_beds = []\n",
    "bnb_prices = []"
   ]
  },
  {
   "cell_type": "code",
   "execution_count": 7,
   "metadata": {},
   "outputs": [],
   "source": [
    "def page_scraping():\n",
    "    grid = driver.find_element(By.CLASS_NAME, 'gh7uyir')\n",
    "    items = grid.find_elements(By.CLASS_NAME, 'c4mnd7m')\n",
    "    for item in items:\n",
    "        description = item.find_element(By.CLASS_NAME, 't1jojoys')\n",
    "        bed = item.find_elements(By.CLASS_NAME, 'f15liw5s')[3]\n",
    "        price = item.find_element(By.CLASS_NAME, '_14y1gc')\n",
    "        bnb_descriptions.append(description.text)\n",
    "        bnb_beds.append(bed.text)\n",
    "        bnb_prices.append(price.text)\n"
   ]
  },
  {
   "cell_type": "code",
   "execution_count": 8,
   "metadata": {},
   "outputs": [],
   "source": [
    "def page_scrolling():\n",
    "    driver.execute_script(f\"window.scrollTo(0, document.body.scrollHeight/2)\")\n",
    "    time.sleep(3)\n",
    "    driver.execute_script(f\"window.scrollTo(0, document.body.scrollHeight)\")"
   ]
  },
  {
   "cell_type": "code",
   "execution_count": 9,
   "metadata": {},
   "outputs": [],
   "source": [
    "def page_clicking(x):\n",
    "    button = WebDriverWait(driver, 20).until(\n",
    "        EC.visibility_of_element_located((By.CSS_SELECTOR, 'a[aria-label=Next]')))\n",
    "    time.sleep(3)\n",
    "    button.click()"
   ]
  },
  {
   "cell_type": "code",
   "execution_count": 10,
   "metadata": {},
   "outputs": [],
   "source": [
    "def scraping_process():\n",
    "    try:\n",
    "        i = 1\n",
    "        while True:\n",
    "            try:\n",
    "                wait_grid = WebDriverWait(driver, 20).until(\n",
    "                    EC.presence_of_element_located((By.CLASS_NAME, \"_14y1gc\"))\n",
    "                )\n",
    "            except:\n",
    "                break\n",
    "            page_scraping()\n",
    "            print(f'done scraping {i} pages')\n",
    "            page_scrolling()\n",
    "            print(f'done scrolling {i} pages')\n",
    "            if i == 1:\n",
    "                cross = WebDriverWait(driver, 20).until(\n",
    "                    EC.visibility_of_element_located((By.XPATH, '/html/body/div[14]/div/div/div/div[3]/button'))).click()\n",
    "            page_clicking(i)\n",
    "            print(f'done clicking {i} pages')\n",
    "            i += 1\n",
    "    except:\n",
    "        print('scraping done!')\n",
    "        # driver.quit()"
   ]
  },
  {
   "cell_type": "code",
   "execution_count": 11,
   "metadata": {},
   "outputs": [
    {
     "name": "stdout",
     "output_type": "stream",
     "text": [
      "done scraping 1 pages\n",
      "done scrolling 1 pages\n",
      "done clicking 1 pages\n",
      "done scraping 2 pages\n",
      "done scrolling 2 pages\n",
      "done clicking 2 pages\n",
      "done scraping 3 pages\n",
      "done scrolling 3 pages\n",
      "done clicking 3 pages\n",
      "done scraping 4 pages\n",
      "done scrolling 4 pages\n",
      "done clicking 4 pages\n",
      "done scraping 5 pages\n",
      "done scrolling 5 pages\n",
      "done clicking 5 pages\n",
      "done scraping 6 pages\n",
      "done scrolling 6 pages\n",
      "done clicking 6 pages\n",
      "done scraping 7 pages\n",
      "done scrolling 7 pages\n",
      "done clicking 7 pages\n",
      "done scraping 8 pages\n",
      "done scrolling 8 pages\n",
      "done clicking 8 pages\n",
      "done scraping 9 pages\n",
      "done scrolling 9 pages\n",
      "done clicking 9 pages\n",
      "done scraping 10 pages\n",
      "done scrolling 10 pages\n",
      "done clicking 10 pages\n",
      "done scraping 11 pages\n",
      "done scrolling 11 pages\n",
      "done clicking 11 pages\n",
      "done scraping 12 pages\n",
      "done scrolling 12 pages\n",
      "done clicking 12 pages\n",
      "done scraping 13 pages\n",
      "done scrolling 13 pages\n",
      "done clicking 13 pages\n",
      "done scraping 14 pages\n",
      "done scrolling 14 pages\n",
      "done clicking 14 pages\n",
      "done scraping 15 pages\n",
      "done scrolling 15 pages\n",
      "scraping done!\n"
     ]
    }
   ],
   "source": [
    "scraping_process()"
   ]
  },
  {
   "cell_type": "code",
   "execution_count": 12,
   "metadata": {},
   "outputs": [],
   "source": [
    "import pandas as pd\n",
    "df = pd.DataFrame({'Description': bnb_descriptions, 'Number of Beds': bnb_beds, 'Price (HKD)': bnb_prices})"
   ]
  },
  {
   "cell_type": "code",
   "execution_count": 13,
   "metadata": {},
   "outputs": [
    {
     "data": {
      "text/html": [
       "<div>\n",
       "<style scoped>\n",
       "    .dataframe tbody tr th:only-of-type {\n",
       "        vertical-align: middle;\n",
       "    }\n",
       "\n",
       "    .dataframe tbody tr th {\n",
       "        vertical-align: top;\n",
       "    }\n",
       "\n",
       "    .dataframe thead th {\n",
       "        text-align: right;\n",
       "    }\n",
       "</style>\n",
       "<table border=\"1\" class=\"dataframe\">\n",
       "  <thead>\n",
       "    <tr style=\"text-align: right;\">\n",
       "      <th></th>\n",
       "      <th>Description</th>\n",
       "      <th>Number of Beds</th>\n",
       "      <th>Price (HKD)</th>\n",
       "    </tr>\n",
       "  </thead>\n",
       "  <tbody>\n",
       "    <tr>\n",
       "      <th>0</th>\n",
       "      <td>Hotel room in Chuo City</td>\n",
       "      <td>1 small double bed</td>\n",
       "      <td>$37 \\n$32\\n night\\n$32 per night, originally $37</td>\n",
       "    </tr>\n",
       "    <tr>\n",
       "      <th>1</th>\n",
       "      <td>Private room in Sumida-ku</td>\n",
       "      <td>1 double bed</td>\n",
       "      <td>$40 \\n$23\\n night\\n$23 per night, originally $40</td>\n",
       "    </tr>\n",
       "    <tr>\n",
       "      <th>2</th>\n",
       "      <td>Hotel room in 中央区</td>\n",
       "      <td>3 beds</td>\n",
       "      <td>$160 \\n$62\\n night\\n$62 per night, originally ...</td>\n",
       "    </tr>\n",
       "    <tr>\n",
       "      <th>3</th>\n",
       "      <td>Hotel room in Chuo City</td>\n",
       "      <td>1 double bed</td>\n",
       "      <td>$45 \\n$36\\n night\\n$36 per night, originally $45</td>\n",
       "    </tr>\n",
       "    <tr>\n",
       "      <th>4</th>\n",
       "      <td>Apartment in Chuo City</td>\n",
       "      <td>1 bed</td>\n",
       "      <td>$79 \\n$55\\n night\\n$55 per night, originally $79</td>\n",
       "    </tr>\n",
       "  </tbody>\n",
       "</table>\n",
       "</div>"
      ],
      "text/plain": [
       "                 Description      Number of Beds  \\\n",
       "0    Hotel room in Chuo City  1 small double bed   \n",
       "1  Private room in Sumida-ku        1 double bed   \n",
       "2          Hotel room in 中央区              3 beds   \n",
       "3    Hotel room in Chuo City        1 double bed   \n",
       "4     Apartment in Chuo City               1 bed   \n",
       "\n",
       "                                         Price (HKD)  \n",
       "0   $37 \\n$32\\n night\\n$32 per night, originally $37  \n",
       "1   $40 \\n$23\\n night\\n$23 per night, originally $40  \n",
       "2  $160 \\n$62\\n night\\n$62 per night, originally ...  \n",
       "3   $45 \\n$36\\n night\\n$36 per night, originally $45  \n",
       "4   $79 \\n$55\\n night\\n$55 per night, originally $79  "
      ]
     },
     "execution_count": 13,
     "metadata": {},
     "output_type": "execute_result"
    }
   ],
   "source": [
    "df.head()"
   ]
  },
  {
   "cell_type": "code",
   "execution_count": 14,
   "metadata": {},
   "outputs": [
    {
     "data": {
      "text/plain": [
       "(300, 3)"
      ]
     },
     "execution_count": 14,
     "metadata": {},
     "output_type": "execute_result"
    }
   ],
   "source": [
    "df.shape"
   ]
  },
  {
   "cell_type": "code",
   "execution_count": 15,
   "metadata": {},
   "outputs": [],
   "source": [
    "df.to_csv('airbnb_tokyo.csv', sep=',', index=False)"
   ]
  }
 ],
 "metadata": {
  "kernelspec": {
   "display_name": "Python 3.9.7 64-bit",
   "language": "python",
   "name": "python3"
  },
  "language_info": {
   "codemirror_mode": {
    "name": "ipython",
    "version": 3
   },
   "file_extension": ".py",
   "mimetype": "text/x-python",
   "name": "python",
   "nbconvert_exporter": "python",
   "pygments_lexer": "ipython3",
   "version": "3.9.7"
  },
  "orig_nbformat": 4,
  "vscode": {
   "interpreter": {
    "hash": "b1ffc42b7688ee54d4509547a2cb46af3c49bac4d5c1def4786231871a29c157"
   }
  }
 },
 "nbformat": 4,
 "nbformat_minor": 2
}
