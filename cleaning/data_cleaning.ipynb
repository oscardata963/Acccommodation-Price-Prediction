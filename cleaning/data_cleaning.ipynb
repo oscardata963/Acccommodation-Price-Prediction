{
 "cells": [
  {
   "cell_type": "markdown",
   "metadata": {},
   "source": [
    "# Project 1: Accommodation Prices Prediction - Data Cleaning"
   ]
  },
  {
   "cell_type": "markdown",
   "metadata": {},
   "source": [
    "After scraping relevant information about the stays on Airbnb and Booking.com, we can move on and combine the two datasets into one. Although both datasets contain the same set of variables, their formats are somewhat different. Therefore, data cleaning is required to align these variables."
   ]
  },
  {
   "cell_type": "markdown",
   "metadata": {},
   "source": [
    "Import Both datasets"
   ]
  },
  {
   "cell_type": "code",
   "execution_count": 4,
   "metadata": {},
   "outputs": [],
   "source": [
    "import pandas as pd\n",
    "import numpy as np\n",
    "\n",
    "df_airbnb = pd.read_csv('../scraping/airbnb_tokyo.csv')\n",
    "df_hotel = pd.read_csv('../scraping/hotel_tokyo.csv')"
   ]
  },
  {
   "cell_type": "code",
   "execution_count": 5,
   "metadata": {},
   "outputs": [
    {
     "data": {
      "text/html": [
       "<div>\n",
       "<style scoped>\n",
       "    .dataframe tbody tr th:only-of-type {\n",
       "        vertical-align: middle;\n",
       "    }\n",
       "\n",
       "    .dataframe tbody tr th {\n",
       "        vertical-align: top;\n",
       "    }\n",
       "\n",
       "    .dataframe thead th {\n",
       "        text-align: right;\n",
       "    }\n",
       "</style>\n",
       "<table border=\"1\" class=\"dataframe\">\n",
       "  <thead>\n",
       "    <tr style=\"text-align: right;\">\n",
       "      <th></th>\n",
       "      <th>Description</th>\n",
       "      <th>Number of Beds</th>\n",
       "      <th>Price (HKD)</th>\n",
       "    </tr>\n",
       "  </thead>\n",
       "  <tbody>\n",
       "    <tr>\n",
       "      <th>0</th>\n",
       "      <td>Hotel room in Chuo City</td>\n",
       "      <td>1 small double bed</td>\n",
       "      <td>$37 \\n$32\\n night\\n$32 per night, originally $37</td>\n",
       "    </tr>\n",
       "    <tr>\n",
       "      <th>1</th>\n",
       "      <td>Private room in Sumida-ku</td>\n",
       "      <td>1 double bed</td>\n",
       "      <td>$40 \\n$23\\n night\\n$23 per night, originally $40</td>\n",
       "    </tr>\n",
       "    <tr>\n",
       "      <th>2</th>\n",
       "      <td>Hotel room in 中央区</td>\n",
       "      <td>3 beds</td>\n",
       "      <td>$160 \\n$62\\n night\\n$62 per night, originally ...</td>\n",
       "    </tr>\n",
       "    <tr>\n",
       "      <th>3</th>\n",
       "      <td>Hotel room in Chuo City</td>\n",
       "      <td>1 double bed</td>\n",
       "      <td>$45 \\n$36\\n night\\n$36 per night, originally $45</td>\n",
       "    </tr>\n",
       "    <tr>\n",
       "      <th>4</th>\n",
       "      <td>Apartment in Chuo City</td>\n",
       "      <td>1 bed</td>\n",
       "      <td>$79 \\n$55\\n night\\n$55 per night, originally $79</td>\n",
       "    </tr>\n",
       "  </tbody>\n",
       "</table>\n",
       "</div>"
      ],
      "text/plain": [
       "                 Description      Number of Beds  \\\n",
       "0    Hotel room in Chuo City  1 small double bed   \n",
       "1  Private room in Sumida-ku        1 double bed   \n",
       "2          Hotel room in 中央区              3 beds   \n",
       "3    Hotel room in Chuo City        1 double bed   \n",
       "4     Apartment in Chuo City               1 bed   \n",
       "\n",
       "                                         Price (HKD)  \n",
       "0   $37 \\n$32\\n night\\n$32 per night, originally $37  \n",
       "1   $40 \\n$23\\n night\\n$23 per night, originally $40  \n",
       "2  $160 \\n$62\\n night\\n$62 per night, originally ...  \n",
       "3   $45 \\n$36\\n night\\n$36 per night, originally $45  \n",
       "4   $79 \\n$55\\n night\\n$55 per night, originally $79  "
      ]
     },
     "execution_count": 5,
     "metadata": {},
     "output_type": "execute_result"
    }
   ],
   "source": [
    "df_airbnb.head()"
   ]
  },
  {
   "cell_type": "code",
   "execution_count": 6,
   "metadata": {},
   "outputs": [
    {
     "data": {
      "text/html": [
       "<div>\n",
       "<style scoped>\n",
       "    .dataframe tbody tr th:only-of-type {\n",
       "        vertical-align: middle;\n",
       "    }\n",
       "\n",
       "    .dataframe tbody tr th {\n",
       "        vertical-align: top;\n",
       "    }\n",
       "\n",
       "    .dataframe thead th {\n",
       "        text-align: right;\n",
       "    }\n",
       "</style>\n",
       "<table border=\"1\" class=\"dataframe\">\n",
       "  <thead>\n",
       "    <tr style=\"text-align: right;\">\n",
       "      <th></th>\n",
       "      <th>Number of Beds</th>\n",
       "      <th>Location</th>\n",
       "      <th>Price (HKD)</th>\n",
       "    </tr>\n",
       "  </thead>\n",
       "  <tbody>\n",
       "    <tr>\n",
       "      <th>0</th>\n",
       "      <td>Entire apartment • 1 bedroom • 1 bathroom • 17...</td>\n",
       "      <td>Kita, Tokyo</td>\n",
       "      <td>HK$ 589</td>\n",
       "    </tr>\n",
       "    <tr>\n",
       "      <th>1</th>\n",
       "      <td>2 beds (1 double, 1 futon)</td>\n",
       "      <td>Taito, Tokyo</td>\n",
       "      <td>HK$ 621</td>\n",
       "    </tr>\n",
       "    <tr>\n",
       "      <th>2</th>\n",
       "      <td>Entire apartment • 1 bedroom • 1 living room •...</td>\n",
       "      <td>Shinagawa Ward, Tokyo</td>\n",
       "      <td>HK$ 1,807</td>\n",
       "    </tr>\n",
       "    <tr>\n",
       "      <th>3</th>\n",
       "      <td>Entire apartment • 1 bedroom • 1 bathroom\\n2 b...</td>\n",
       "      <td>Sumida Ward, Tokyo</td>\n",
       "      <td>HK$ 811</td>\n",
       "    </tr>\n",
       "    <tr>\n",
       "      <th>4</th>\n",
       "      <td>1 single bed</td>\n",
       "      <td>Taito, Tokyo</td>\n",
       "      <td>HK$ 378</td>\n",
       "    </tr>\n",
       "  </tbody>\n",
       "</table>\n",
       "</div>"
      ],
      "text/plain": [
       "                                      Number of Beds               Location  \\\n",
       "0  Entire apartment • 1 bedroom • 1 bathroom • 17...            Kita, Tokyo   \n",
       "1                         2 beds (1 double, 1 futon)           Taito, Tokyo   \n",
       "2  Entire apartment • 1 bedroom • 1 living room •...  Shinagawa Ward, Tokyo   \n",
       "3  Entire apartment • 1 bedroom • 1 bathroom\\n2 b...     Sumida Ward, Tokyo   \n",
       "4                                       1 single bed           Taito, Tokyo   \n",
       "\n",
       "  Price (HKD)  \n",
       "0     HK$ 589  \n",
       "1     HK$ 621  \n",
       "2   HK$ 1,807  \n",
       "3     HK$ 811  \n",
       "4     HK$ 378  "
      ]
     },
     "execution_count": 6,
     "metadata": {},
     "output_type": "execute_result"
    }
   ],
   "source": [
    "df_hotel.head()"
   ]
  },
  {
   "cell_type": "markdown",
   "metadata": {},
   "source": [
    "From above we can see that both datasets contain the price, location, and the number of beds for each stay, but they are presented in different formats. Also, both datasets actually contains the types of the stay e.g. hotel room, apartment, but they are hidden in different variables. Our task is to separate them out and make it a new variable."
   ]
  },
  {
   "cell_type": "markdown",
   "metadata": {},
   "source": [
    "### cleaning the airbnb dataset"
   ]
  },
  {
   "cell_type": "code",
   "execution_count": 7,
   "metadata": {},
   "outputs": [
    {
     "data": {
      "text/html": [
       "<div>\n",
       "<style scoped>\n",
       "    .dataframe tbody tr th:only-of-type {\n",
       "        vertical-align: middle;\n",
       "    }\n",
       "\n",
       "    .dataframe tbody tr th {\n",
       "        vertical-align: top;\n",
       "    }\n",
       "\n",
       "    .dataframe thead th {\n",
       "        text-align: right;\n",
       "    }\n",
       "</style>\n",
       "<table border=\"1\" class=\"dataframe\">\n",
       "  <thead>\n",
       "    <tr style=\"text-align: right;\">\n",
       "      <th></th>\n",
       "      <th>Number of Beds</th>\n",
       "      <th>Price (HKD)</th>\n",
       "      <th>Type</th>\n",
       "      <th>Location</th>\n",
       "    </tr>\n",
       "  </thead>\n",
       "  <tbody>\n",
       "    <tr>\n",
       "      <th>0</th>\n",
       "      <td>1.0</td>\n",
       "      <td>37.0</td>\n",
       "      <td>Hotel room</td>\n",
       "      <td>Chuo City</td>\n",
       "    </tr>\n",
       "    <tr>\n",
       "      <th>1</th>\n",
       "      <td>1.0</td>\n",
       "      <td>40.0</td>\n",
       "      <td>Private room</td>\n",
       "      <td>Sumida-ku</td>\n",
       "    </tr>\n",
       "    <tr>\n",
       "      <th>2</th>\n",
       "      <td>3.0</td>\n",
       "      <td>160.0</td>\n",
       "      <td>Hotel room</td>\n",
       "      <td>中央区</td>\n",
       "    </tr>\n",
       "    <tr>\n",
       "      <th>3</th>\n",
       "      <td>1.0</td>\n",
       "      <td>45.0</td>\n",
       "      <td>Hotel room</td>\n",
       "      <td>Chuo City</td>\n",
       "    </tr>\n",
       "    <tr>\n",
       "      <th>4</th>\n",
       "      <td>1.0</td>\n",
       "      <td>79.0</td>\n",
       "      <td>Apartment</td>\n",
       "      <td>Chuo City</td>\n",
       "    </tr>\n",
       "  </tbody>\n",
       "</table>\n",
       "</div>"
      ],
      "text/plain": [
       "   Number of Beds  Price (HKD)          Type   Location\n",
       "0             1.0         37.0    Hotel room  Chuo City\n",
       "1             1.0         40.0  Private room  Sumida-ku\n",
       "2             3.0        160.0    Hotel room        中央区\n",
       "3             1.0         45.0    Hotel room  Chuo City\n",
       "4             1.0         79.0     Apartment  Chuo City"
      ]
     },
     "execution_count": 7,
     "metadata": {},
     "output_type": "execute_result"
    }
   ],
   "source": [
    "df_airbnb[['Type', 'Location']] = df_airbnb['Description'].str.split(' in ', expand=True)\n",
    "# df_airbnb['Type of Beds'] = df_airbnb['Number of Beds'].str.replace(' bed', '').str.split(' ', 1, expand=True)[1].fillna('typical')\n",
    "df_airbnb['Number of Beds'] = df_airbnb['Number of Beds'].str.split(' ', expand=True)[0]\n",
    "df_airbnb['Number of Beds'] = df_airbnb['Number of Beds'].replace('', 0)\n",
    "df_airbnb['Price (HKD)'] = df_airbnb['Price (HKD)'].str.split(' ', expand=True)[0].str.split('$', expand=True)[1].str.replace(',', '')\n",
    "df_airbnb = df_airbnb.drop(columns='Description')\n",
    "df_airbnb['Number of Beds'] = df_airbnb['Number of Beds'].astype('float64')\n",
    "df_airbnb['Price (HKD)'] = df_airbnb['Price (HKD)'].astype('float64')\n",
    "\n",
    "df_airbnb.head()"
   ]
  },
  {
   "cell_type": "code",
   "execution_count": 8,
   "metadata": {},
   "outputs": [
    {
     "data": {
      "text/html": [
       "<div>\n",
       "<style scoped>\n",
       "    .dataframe tbody tr th:only-of-type {\n",
       "        vertical-align: middle;\n",
       "    }\n",
       "\n",
       "    .dataframe tbody tr th {\n",
       "        vertical-align: top;\n",
       "    }\n",
       "\n",
       "    .dataframe thead th {\n",
       "        text-align: right;\n",
       "    }\n",
       "</style>\n",
       "<table border=\"1\" class=\"dataframe\">\n",
       "  <thead>\n",
       "    <tr style=\"text-align: right;\">\n",
       "      <th></th>\n",
       "      <th>Number of Beds</th>\n",
       "      <th>Location</th>\n",
       "      <th>Price (HKD)</th>\n",
       "    </tr>\n",
       "  </thead>\n",
       "  <tbody>\n",
       "    <tr>\n",
       "      <th>0</th>\n",
       "      <td>Entire apartment • 1 bedroom • 1 bathroom • 17...</td>\n",
       "      <td>Kita, Tokyo</td>\n",
       "      <td>HK$ 589</td>\n",
       "    </tr>\n",
       "    <tr>\n",
       "      <th>1</th>\n",
       "      <td>2 beds (1 double, 1 futon)</td>\n",
       "      <td>Taito, Tokyo</td>\n",
       "      <td>HK$ 621</td>\n",
       "    </tr>\n",
       "    <tr>\n",
       "      <th>2</th>\n",
       "      <td>Entire apartment • 1 bedroom • 1 living room •...</td>\n",
       "      <td>Shinagawa Ward, Tokyo</td>\n",
       "      <td>HK$ 1,807</td>\n",
       "    </tr>\n",
       "    <tr>\n",
       "      <th>3</th>\n",
       "      <td>Entire apartment • 1 bedroom • 1 bathroom\\n2 b...</td>\n",
       "      <td>Sumida Ward, Tokyo</td>\n",
       "      <td>HK$ 811</td>\n",
       "    </tr>\n",
       "    <tr>\n",
       "      <th>4</th>\n",
       "      <td>1 single bed</td>\n",
       "      <td>Taito, Tokyo</td>\n",
       "      <td>HK$ 378</td>\n",
       "    </tr>\n",
       "  </tbody>\n",
       "</table>\n",
       "</div>"
      ],
      "text/plain": [
       "                                      Number of Beds               Location  \\\n",
       "0  Entire apartment • 1 bedroom • 1 bathroom • 17...            Kita, Tokyo   \n",
       "1                         2 beds (1 double, 1 futon)           Taito, Tokyo   \n",
       "2  Entire apartment • 1 bedroom • 1 living room •...  Shinagawa Ward, Tokyo   \n",
       "3  Entire apartment • 1 bedroom • 1 bathroom\\n2 b...     Sumida Ward, Tokyo   \n",
       "4                                       1 single bed           Taito, Tokyo   \n",
       "\n",
       "  Price (HKD)  \n",
       "0     HK$ 589  \n",
       "1     HK$ 621  \n",
       "2   HK$ 1,807  \n",
       "3     HK$ 811  \n",
       "4     HK$ 378  "
      ]
     },
     "execution_count": 8,
     "metadata": {},
     "output_type": "execute_result"
    }
   ],
   "source": [
    "df_hotel.head()"
   ]
  },
  {
   "cell_type": "markdown",
   "metadata": {},
   "source": [
    "### Cleaning the Hotel Dataset"
   ]
  },
  {
   "cell_type": "code",
   "execution_count": 9,
   "metadata": {},
   "outputs": [],
   "source": [
    "# cleaning the hotel dataset\n",
    "df_hotel['Price (HKD)'] = df_hotel['Price (HKD)'].str.split(' ', expand=True)[1].str.replace(',', '').astype('float64')\n",
    "df_hotel['Location'] = df_hotel['Location'].str.split(', ', expand=True)[0]"
   ]
  },
  {
   "cell_type": "markdown",
   "metadata": {},
   "source": [
    "Next, we categorize the types of stays, which could be tricky since the descriptions are not structured the same way."
   ]
  },
  {
   "cell_type": "code",
   "execution_count": 10,
   "metadata": {},
   "outputs": [],
   "source": [
    "bedtypes = df_hotel['Number of Beds'].value_counts()"
   ]
  },
  {
   "cell_type": "markdown",
   "metadata": {},
   "source": [
    "Find the patterns of the description"
   ]
  },
  {
   "cell_type": "code",
   "execution_count": 11,
   "metadata": {},
   "outputs": [],
   "source": [
    "bedtypes.to_csv('bedtypes.csv')"
   ]
  },
  {
   "cell_type": "code",
   "execution_count": 12,
   "metadata": {},
   "outputs": [],
   "source": [
    "df_hotel_types = df_hotel['Number of Beds'].copy()"
   ]
  },
  {
   "cell_type": "code",
   "execution_count": 13,
   "metadata": {},
   "outputs": [
    {
     "data": {
      "text/plain": [
       "1 single bed                                                                                                            397\n",
       "1 double bed                                                                                                            231\n",
       "1 large double bed                                                                                                       57\n",
       "Bed in dormitory\\n1 bunk bed                                                                                             46\n",
       "2 single beds                                                                                                            43\n",
       "                                                                                                                       ... \n",
       "Entire apartment • 1 bedroom • 1 living room • 1 bathroom • 1 kitchen • 25m²\\n3 beds (1 single, 1 sofa bed, 1 futon)      1\n",
       "5 beds (2 singles, 3 sofa beds)                                                                                           1\n",
       "Entire studio • 1 bathroom • 1 kitchen • 26m²\\n1 double bed                                                               1\n",
       "3 beds (1 single, 2 bunk beds)                                                                                            1\n",
       "Entire apartment • 1 bedroom • 1 bathroom • 1 kitchen • 20m²\\n3 beds (2 singles, 1 futon)                                 1\n",
       "Name: Number of Beds, Length: 109, dtype: int64"
      ]
     },
     "execution_count": 13,
     "metadata": {},
     "output_type": "execute_result"
    }
   ],
   "source": [
    "df_hotel_types.value_counts()"
   ]
  },
  {
   "cell_type": "code",
   "execution_count": 14,
   "metadata": {},
   "outputs": [],
   "source": [
    "df_hotel_types[df_hotel_types.str.contains('apartment', na=False)] = 'Apartment'\n",
    "df_hotel_types[df_hotel_types.str.contains('Entire villa', na=False)] = 'Villa'\n",
    "df_hotel_types[df_hotel_types.str.contains('studio', na=False)] = 'Studio'\n",
    "df_hotel_types[df_hotel_types.str.contains('suite', na=False)] = 'Suite'\n",
    "df_hotel_types[df_hotel_types.str.contains('Entire holiday home', na=False)] = 'Holiday Home'"
   ]
  },
  {
   "cell_type": "code",
   "execution_count": 15,
   "metadata": {},
   "outputs": [],
   "source": [
    "df_hotel_types[df_hotel_types.str.contains('dormitory', na=False)] = 'Dormitory'"
   ]
  },
  {
   "cell_type": "code",
   "execution_count": 16,
   "metadata": {},
   "outputs": [],
   "source": [
    "df_hotel_types[(df_hotel_types.str.contains('Beds:', na=False)) | df_hotel_types.str.contains('Multiple', na=False)] = 'Miscellaneous'"
   ]
  },
  {
   "cell_type": "code",
   "execution_count": 17,
   "metadata": {},
   "outputs": [],
   "source": [
    "non_hotel_rooms = ['Apartment', 'Studio', 'Villa', 'Holiday Home', 'Dormitory', 'Miscellaneous', 'Suite']\n",
    "df_hotel_types[~df_hotel_types.str.contains('|'.join(non_hotel_rooms), na=False)] = 'Hotel Room'"
   ]
  },
  {
   "cell_type": "code",
   "execution_count": 18,
   "metadata": {},
   "outputs": [
    {
     "data": {
      "text/plain": [
       "Hotel Room       846\n",
       "Dormitory         86\n",
       "Apartment         40\n",
       "Studio            15\n",
       "Miscellaneous      4\n",
       "Suite              4\n",
       "Villa              3\n",
       "Holiday Home       2\n",
       "Name: Number of Beds, dtype: int64"
      ]
     },
     "execution_count": 18,
     "metadata": {},
     "output_type": "execute_result"
    }
   ],
   "source": [
    "df_hotel_types.value_counts()"
   ]
  },
  {
   "cell_type": "code",
   "execution_count": 19,
   "metadata": {},
   "outputs": [
    {
     "data": {
      "text/plain": [
       "1000"
      ]
     },
     "execution_count": 19,
     "metadata": {},
     "output_type": "execute_result"
    }
   ],
   "source": [
    "df_hotel_types.value_counts().sum()"
   ]
  },
  {
   "cell_type": "code",
   "execution_count": 20,
   "metadata": {},
   "outputs": [],
   "source": [
    "df_hotel['Type'] = df_hotel_types"
   ]
  },
  {
   "cell_type": "code",
   "execution_count": 21,
   "metadata": {},
   "outputs": [
    {
     "data": {
      "text/html": [
       "<div>\n",
       "<style scoped>\n",
       "    .dataframe tbody tr th:only-of-type {\n",
       "        vertical-align: middle;\n",
       "    }\n",
       "\n",
       "    .dataframe tbody tr th {\n",
       "        vertical-align: top;\n",
       "    }\n",
       "\n",
       "    .dataframe thead th {\n",
       "        text-align: right;\n",
       "    }\n",
       "</style>\n",
       "<table border=\"1\" class=\"dataframe\">\n",
       "  <thead>\n",
       "    <tr style=\"text-align: right;\">\n",
       "      <th></th>\n",
       "      <th>Number of Beds</th>\n",
       "      <th>Location</th>\n",
       "      <th>Price (HKD)</th>\n",
       "      <th>Type</th>\n",
       "    </tr>\n",
       "  </thead>\n",
       "  <tbody>\n",
       "    <tr>\n",
       "      <th>0</th>\n",
       "      <td>Entire apartment • 1 bedroom • 1 bathroom • 17...</td>\n",
       "      <td>Kita</td>\n",
       "      <td>589.0</td>\n",
       "      <td>Apartment</td>\n",
       "    </tr>\n",
       "    <tr>\n",
       "      <th>1</th>\n",
       "      <td>2 beds (1 double, 1 futon)</td>\n",
       "      <td>Taito</td>\n",
       "      <td>621.0</td>\n",
       "      <td>Hotel Room</td>\n",
       "    </tr>\n",
       "    <tr>\n",
       "      <th>2</th>\n",
       "      <td>Entire apartment • 1 bedroom • 1 living room •...</td>\n",
       "      <td>Shinagawa Ward</td>\n",
       "      <td>1807.0</td>\n",
       "      <td>Apartment</td>\n",
       "    </tr>\n",
       "    <tr>\n",
       "      <th>3</th>\n",
       "      <td>Entire apartment • 1 bedroom • 1 bathroom\\n2 b...</td>\n",
       "      <td>Sumida Ward</td>\n",
       "      <td>811.0</td>\n",
       "      <td>Apartment</td>\n",
       "    </tr>\n",
       "    <tr>\n",
       "      <th>4</th>\n",
       "      <td>1 single bed</td>\n",
       "      <td>Taito</td>\n",
       "      <td>378.0</td>\n",
       "      <td>Hotel Room</td>\n",
       "    </tr>\n",
       "  </tbody>\n",
       "</table>\n",
       "</div>"
      ],
      "text/plain": [
       "                                      Number of Beds        Location  \\\n",
       "0  Entire apartment • 1 bedroom • 1 bathroom • 17...            Kita   \n",
       "1                         2 beds (1 double, 1 futon)           Taito   \n",
       "2  Entire apartment • 1 bedroom • 1 living room •...  Shinagawa Ward   \n",
       "3  Entire apartment • 1 bedroom • 1 bathroom\\n2 b...     Sumida Ward   \n",
       "4                                       1 single bed           Taito   \n",
       "\n",
       "   Price (HKD)        Type  \n",
       "0        589.0   Apartment  \n",
       "1        621.0  Hotel Room  \n",
       "2       1807.0   Apartment  \n",
       "3        811.0   Apartment  \n",
       "4        378.0  Hotel Room  "
      ]
     },
     "execution_count": 21,
     "metadata": {},
     "output_type": "execute_result"
    }
   ],
   "source": [
    "df_hotel.head()"
   ]
  },
  {
   "cell_type": "markdown",
   "metadata": {},
   "source": [
    "We succesfully classified the stays of the hotel dataset. Then we can turn to the extraction of the number of beds. The formats of the descriptions are different depdending on the type of stay. Therefore, we have to extract them accordingly."
   ]
  },
  {
   "cell_type": "code",
   "execution_count": 22,
   "metadata": {},
   "outputs": [],
   "source": [
    "df_hotel_copy = df_hotel.copy()\n",
    "df_num_rooms = df_hotel_copy['Number of Beds'][df_hotel_copy['Type'] == 'Hotel Room'].str.split(' ', expand=True)[0]\n",
    "df_num_rooms = df_num_rooms.append(df_hotel_copy[df_hotel_copy['Type'] == 'Dormitory']['Number of Beds'].str.split('\\n', expand=True)[1].str.split(' ', expand=True)[0])\n",
    "df_num_rooms = df_num_rooms.sort_index()"
   ]
  },
  {
   "cell_type": "code",
   "execution_count": 23,
   "metadata": {},
   "outputs": [],
   "source": [
    "df_hotel = pd.concat((df_hotel, df_num_rooms), axis=1)\n",
    "df_hotel = df_hotel.rename(columns={0: 'Beds'})"
   ]
  },
  {
   "cell_type": "code",
   "execution_count": 24,
   "metadata": {},
   "outputs": [
    {
     "data": {
      "text/html": [
       "<div>\n",
       "<style scoped>\n",
       "    .dataframe tbody tr th:only-of-type {\n",
       "        vertical-align: middle;\n",
       "    }\n",
       "\n",
       "    .dataframe tbody tr th {\n",
       "        vertical-align: top;\n",
       "    }\n",
       "\n",
       "    .dataframe thead th {\n",
       "        text-align: right;\n",
       "    }\n",
       "</style>\n",
       "<table border=\"1\" class=\"dataframe\">\n",
       "  <thead>\n",
       "    <tr style=\"text-align: right;\">\n",
       "      <th></th>\n",
       "      <th>Number of Beds</th>\n",
       "      <th>Location</th>\n",
       "      <th>Price (HKD)</th>\n",
       "      <th>Type</th>\n",
       "      <th>Beds</th>\n",
       "    </tr>\n",
       "  </thead>\n",
       "  <tbody>\n",
       "    <tr>\n",
       "      <th>0</th>\n",
       "      <td>Entire apartment • 1 bedroom • 1 bathroom • 17...</td>\n",
       "      <td>Kita</td>\n",
       "      <td>589.0</td>\n",
       "      <td>Apartment</td>\n",
       "      <td>NaN</td>\n",
       "    </tr>\n",
       "    <tr>\n",
       "      <th>1</th>\n",
       "      <td>2 beds (1 double, 1 futon)</td>\n",
       "      <td>Taito</td>\n",
       "      <td>621.0</td>\n",
       "      <td>Hotel Room</td>\n",
       "      <td>2</td>\n",
       "    </tr>\n",
       "    <tr>\n",
       "      <th>2</th>\n",
       "      <td>Entire apartment • 1 bedroom • 1 living room •...</td>\n",
       "      <td>Shinagawa Ward</td>\n",
       "      <td>1807.0</td>\n",
       "      <td>Apartment</td>\n",
       "      <td>NaN</td>\n",
       "    </tr>\n",
       "    <tr>\n",
       "      <th>3</th>\n",
       "      <td>Entire apartment • 1 bedroom • 1 bathroom\\n2 b...</td>\n",
       "      <td>Sumida Ward</td>\n",
       "      <td>811.0</td>\n",
       "      <td>Apartment</td>\n",
       "      <td>NaN</td>\n",
       "    </tr>\n",
       "    <tr>\n",
       "      <th>4</th>\n",
       "      <td>1 single bed</td>\n",
       "      <td>Taito</td>\n",
       "      <td>378.0</td>\n",
       "      <td>Hotel Room</td>\n",
       "      <td>1</td>\n",
       "    </tr>\n",
       "    <tr>\n",
       "      <th>...</th>\n",
       "      <td>...</td>\n",
       "      <td>...</td>\n",
       "      <td>...</td>\n",
       "      <td>...</td>\n",
       "      <td>...</td>\n",
       "    </tr>\n",
       "    <tr>\n",
       "      <th>995</th>\n",
       "      <td>1 single bed</td>\n",
       "      <td>Ota Ward</td>\n",
       "      <td>790.0</td>\n",
       "      <td>Hotel Room</td>\n",
       "      <td>1</td>\n",
       "    </tr>\n",
       "    <tr>\n",
       "      <th>996</th>\n",
       "      <td>1 single bed</td>\n",
       "      <td>Toshima</td>\n",
       "      <td>364.0</td>\n",
       "      <td>Hotel Room</td>\n",
       "      <td>1</td>\n",
       "    </tr>\n",
       "    <tr>\n",
       "      <th>997</th>\n",
       "      <td>2 double beds</td>\n",
       "      <td>Toshima</td>\n",
       "      <td>683.0</td>\n",
       "      <td>Hotel Room</td>\n",
       "      <td>2</td>\n",
       "    </tr>\n",
       "    <tr>\n",
       "      <th>998</th>\n",
       "      <td>Entire apartment • 1 bedroom • 1 bathroom • 1 ...</td>\n",
       "      <td>Shibuya Ward</td>\n",
       "      <td>1298.0</td>\n",
       "      <td>Apartment</td>\n",
       "      <td>NaN</td>\n",
       "    </tr>\n",
       "    <tr>\n",
       "      <th>999</th>\n",
       "      <td>1 single bed</td>\n",
       "      <td>Taito</td>\n",
       "      <td>342.0</td>\n",
       "      <td>Hotel Room</td>\n",
       "      <td>1</td>\n",
       "    </tr>\n",
       "  </tbody>\n",
       "</table>\n",
       "<p>1000 rows × 5 columns</p>\n",
       "</div>"
      ],
      "text/plain": [
       "                                        Number of Beds        Location  \\\n",
       "0    Entire apartment • 1 bedroom • 1 bathroom • 17...            Kita   \n",
       "1                           2 beds (1 double, 1 futon)           Taito   \n",
       "2    Entire apartment • 1 bedroom • 1 living room •...  Shinagawa Ward   \n",
       "3    Entire apartment • 1 bedroom • 1 bathroom\\n2 b...     Sumida Ward   \n",
       "4                                         1 single bed           Taito   \n",
       "..                                                 ...             ...   \n",
       "995                                       1 single bed        Ota Ward   \n",
       "996                                       1 single bed         Toshima   \n",
       "997                                      2 double beds         Toshima   \n",
       "998  Entire apartment • 1 bedroom • 1 bathroom • 1 ...    Shibuya Ward   \n",
       "999                                       1 single bed           Taito   \n",
       "\n",
       "     Price (HKD)        Type Beds  \n",
       "0          589.0   Apartment  NaN  \n",
       "1          621.0  Hotel Room    2  \n",
       "2         1807.0   Apartment  NaN  \n",
       "3          811.0   Apartment  NaN  \n",
       "4          378.0  Hotel Room    1  \n",
       "..           ...         ...  ...  \n",
       "995        790.0  Hotel Room    1  \n",
       "996        364.0  Hotel Room    1  \n",
       "997        683.0  Hotel Room    2  \n",
       "998       1298.0   Apartment  NaN  \n",
       "999        342.0  Hotel Room    1  \n",
       "\n",
       "[1000 rows x 5 columns]"
      ]
     },
     "execution_count": 24,
     "metadata": {},
     "output_type": "execute_result"
    }
   ],
   "source": [
    "df_hotel"
   ]
  },
  {
   "cell_type": "code",
   "execution_count": 25,
   "metadata": {},
   "outputs": [],
   "source": [
    "df_hotel = df_hotel.drop(columns='Number of Beds')\n",
    "df_hotel = df_hotel.rename(columns={'Beds': 'Number of Beds'})"
   ]
  },
  {
   "cell_type": "code",
   "execution_count": 26,
   "metadata": {},
   "outputs": [
    {
     "data": {
      "text/html": [
       "<div>\n",
       "<style scoped>\n",
       "    .dataframe tbody tr th:only-of-type {\n",
       "        vertical-align: middle;\n",
       "    }\n",
       "\n",
       "    .dataframe tbody tr th {\n",
       "        vertical-align: top;\n",
       "    }\n",
       "\n",
       "    .dataframe thead th {\n",
       "        text-align: right;\n",
       "    }\n",
       "</style>\n",
       "<table border=\"1\" class=\"dataframe\">\n",
       "  <thead>\n",
       "    <tr style=\"text-align: right;\">\n",
       "      <th></th>\n",
       "      <th>Location</th>\n",
       "      <th>Price (HKD)</th>\n",
       "      <th>Type</th>\n",
       "      <th>Number of Beds</th>\n",
       "    </tr>\n",
       "  </thead>\n",
       "  <tbody>\n",
       "    <tr>\n",
       "      <th>0</th>\n",
       "      <td>Kita</td>\n",
       "      <td>589.0</td>\n",
       "      <td>Apartment</td>\n",
       "      <td>NaN</td>\n",
       "    </tr>\n",
       "    <tr>\n",
       "      <th>1</th>\n",
       "      <td>Taito</td>\n",
       "      <td>621.0</td>\n",
       "      <td>Hotel Room</td>\n",
       "      <td>2</td>\n",
       "    </tr>\n",
       "    <tr>\n",
       "      <th>2</th>\n",
       "      <td>Shinagawa Ward</td>\n",
       "      <td>1807.0</td>\n",
       "      <td>Apartment</td>\n",
       "      <td>NaN</td>\n",
       "    </tr>\n",
       "    <tr>\n",
       "      <th>3</th>\n",
       "      <td>Sumida Ward</td>\n",
       "      <td>811.0</td>\n",
       "      <td>Apartment</td>\n",
       "      <td>NaN</td>\n",
       "    </tr>\n",
       "    <tr>\n",
       "      <th>4</th>\n",
       "      <td>Taito</td>\n",
       "      <td>378.0</td>\n",
       "      <td>Hotel Room</td>\n",
       "      <td>1</td>\n",
       "    </tr>\n",
       "    <tr>\n",
       "      <th>...</th>\n",
       "      <td>...</td>\n",
       "      <td>...</td>\n",
       "      <td>...</td>\n",
       "      <td>...</td>\n",
       "    </tr>\n",
       "    <tr>\n",
       "      <th>995</th>\n",
       "      <td>Ota Ward</td>\n",
       "      <td>790.0</td>\n",
       "      <td>Hotel Room</td>\n",
       "      <td>1</td>\n",
       "    </tr>\n",
       "    <tr>\n",
       "      <th>996</th>\n",
       "      <td>Toshima</td>\n",
       "      <td>364.0</td>\n",
       "      <td>Hotel Room</td>\n",
       "      <td>1</td>\n",
       "    </tr>\n",
       "    <tr>\n",
       "      <th>997</th>\n",
       "      <td>Toshima</td>\n",
       "      <td>683.0</td>\n",
       "      <td>Hotel Room</td>\n",
       "      <td>2</td>\n",
       "    </tr>\n",
       "    <tr>\n",
       "      <th>998</th>\n",
       "      <td>Shibuya Ward</td>\n",
       "      <td>1298.0</td>\n",
       "      <td>Apartment</td>\n",
       "      <td>NaN</td>\n",
       "    </tr>\n",
       "    <tr>\n",
       "      <th>999</th>\n",
       "      <td>Taito</td>\n",
       "      <td>342.0</td>\n",
       "      <td>Hotel Room</td>\n",
       "      <td>1</td>\n",
       "    </tr>\n",
       "  </tbody>\n",
       "</table>\n",
       "<p>1000 rows × 4 columns</p>\n",
       "</div>"
      ],
      "text/plain": [
       "           Location  Price (HKD)        Type Number of Beds\n",
       "0              Kita        589.0   Apartment            NaN\n",
       "1             Taito        621.0  Hotel Room              2\n",
       "2    Shinagawa Ward       1807.0   Apartment            NaN\n",
       "3       Sumida Ward        811.0   Apartment            NaN\n",
       "4             Taito        378.0  Hotel Room              1\n",
       "..              ...          ...         ...            ...\n",
       "995        Ota Ward        790.0  Hotel Room              1\n",
       "996         Toshima        364.0  Hotel Room              1\n",
       "997         Toshima        683.0  Hotel Room              2\n",
       "998    Shibuya Ward       1298.0   Apartment            NaN\n",
       "999           Taito        342.0  Hotel Room              1\n",
       "\n",
       "[1000 rows x 4 columns]"
      ]
     },
     "execution_count": 26,
     "metadata": {},
     "output_type": "execute_result"
    }
   ],
   "source": [
    "df_hotel"
   ]
  },
  {
   "cell_type": "code",
   "execution_count": 27,
   "metadata": {},
   "outputs": [
    {
     "data": {
      "text/html": [
       "<div>\n",
       "<style scoped>\n",
       "    .dataframe tbody tr th:only-of-type {\n",
       "        vertical-align: middle;\n",
       "    }\n",
       "\n",
       "    .dataframe tbody tr th {\n",
       "        vertical-align: top;\n",
       "    }\n",
       "\n",
       "    .dataframe thead th {\n",
       "        text-align: right;\n",
       "    }\n",
       "</style>\n",
       "<table border=\"1\" class=\"dataframe\">\n",
       "  <thead>\n",
       "    <tr style=\"text-align: right;\">\n",
       "      <th></th>\n",
       "      <th>Number of Beds</th>\n",
       "      <th>Price (HKD)</th>\n",
       "      <th>Type</th>\n",
       "      <th>Location</th>\n",
       "    </tr>\n",
       "  </thead>\n",
       "  <tbody>\n",
       "    <tr>\n",
       "      <th>0</th>\n",
       "      <td>1.0</td>\n",
       "      <td>37.0</td>\n",
       "      <td>Hotel room</td>\n",
       "      <td>Chuo City</td>\n",
       "    </tr>\n",
       "    <tr>\n",
       "      <th>1</th>\n",
       "      <td>1.0</td>\n",
       "      <td>40.0</td>\n",
       "      <td>Private room</td>\n",
       "      <td>Sumida-ku</td>\n",
       "    </tr>\n",
       "    <tr>\n",
       "      <th>2</th>\n",
       "      <td>3.0</td>\n",
       "      <td>160.0</td>\n",
       "      <td>Hotel room</td>\n",
       "      <td>中央区</td>\n",
       "    </tr>\n",
       "    <tr>\n",
       "      <th>3</th>\n",
       "      <td>1.0</td>\n",
       "      <td>45.0</td>\n",
       "      <td>Hotel room</td>\n",
       "      <td>Chuo City</td>\n",
       "    </tr>\n",
       "    <tr>\n",
       "      <th>4</th>\n",
       "      <td>1.0</td>\n",
       "      <td>79.0</td>\n",
       "      <td>Apartment</td>\n",
       "      <td>Chuo City</td>\n",
       "    </tr>\n",
       "    <tr>\n",
       "      <th>...</th>\n",
       "      <td>...</td>\n",
       "      <td>...</td>\n",
       "      <td>...</td>\n",
       "      <td>...</td>\n",
       "    </tr>\n",
       "    <tr>\n",
       "      <th>295</th>\n",
       "      <td>6.0</td>\n",
       "      <td>1445.0</td>\n",
       "      <td>Home</td>\n",
       "      <td>豊島区</td>\n",
       "    </tr>\n",
       "    <tr>\n",
       "      <th>296</th>\n",
       "      <td>2.0</td>\n",
       "      <td>255.0</td>\n",
       "      <td>Apartment</td>\n",
       "      <td>Katsushika City</td>\n",
       "    </tr>\n",
       "    <tr>\n",
       "      <th>297</th>\n",
       "      <td>2.0</td>\n",
       "      <td>292.0</td>\n",
       "      <td>Private room</td>\n",
       "      <td>Narita</td>\n",
       "    </tr>\n",
       "    <tr>\n",
       "      <th>298</th>\n",
       "      <td>1.0</td>\n",
       "      <td>963.0</td>\n",
       "      <td>Home</td>\n",
       "      <td>Taito City</td>\n",
       "    </tr>\n",
       "    <tr>\n",
       "      <th>299</th>\n",
       "      <td>NaN</td>\n",
       "      <td>722.0</td>\n",
       "      <td>Hotel room</td>\n",
       "      <td>Taito City</td>\n",
       "    </tr>\n",
       "  </tbody>\n",
       "</table>\n",
       "<p>300 rows × 4 columns</p>\n",
       "</div>"
      ],
      "text/plain": [
       "     Number of Beds  Price (HKD)          Type         Location\n",
       "0               1.0         37.0    Hotel room        Chuo City\n",
       "1               1.0         40.0  Private room        Sumida-ku\n",
       "2               3.0        160.0    Hotel room              中央区\n",
       "3               1.0         45.0    Hotel room        Chuo City\n",
       "4               1.0         79.0     Apartment        Chuo City\n",
       "..              ...          ...           ...              ...\n",
       "295             6.0       1445.0          Home              豊島区\n",
       "296             2.0        255.0     Apartment  Katsushika City\n",
       "297             2.0        292.0  Private room           Narita\n",
       "298             1.0        963.0          Home       Taito City\n",
       "299             NaN        722.0    Hotel room       Taito City\n",
       "\n",
       "[300 rows x 4 columns]"
      ]
     },
     "execution_count": 27,
     "metadata": {},
     "output_type": "execute_result"
    }
   ],
   "source": [
    "df_airbnb"
   ]
  },
  {
   "cell_type": "markdown",
   "metadata": {},
   "source": [
    "After cleaning the Airbnb and the hotel datasets individually, we can finally combine the two while keeping track of the values of each of the variables."
   ]
  },
  {
   "cell_type": "code",
   "execution_count": 28,
   "metadata": {},
   "outputs": [],
   "source": [
    "# Rearranging the columns\n",
    "df_hotel = df_hotel.reindex(columns=['Location', 'Number of Beds', 'Type', 'Price (HKD)'])\n",
    "df_airbnb = df_airbnb.reindex(columns=['Location', 'Number of Beds', 'Type', 'Price (HKD)'])"
   ]
  },
  {
   "cell_type": "markdown",
   "metadata": {},
   "source": [
    "Let's first clean the 'Location' variable by grouping the values into the 23 wards i.e. districts in Tokyo."
   ]
  },
  {
   "cell_type": "code",
   "execution_count": 29,
   "metadata": {},
   "outputs": [],
   "source": [
    "airbnb_location = df_airbnb['Location'].value_counts()\n",
    "airbnb_location.to_csv('airbnb_location.csv')"
   ]
  },
  {
   "cell_type": "code",
   "execution_count": 30,
   "metadata": {},
   "outputs": [],
   "source": [
    "hotel_location = df_hotel['Location'].value_counts()\n",
    "hotel_location.to_csv('hotel_location.csv')"
   ]
  },
  {
   "cell_type": "code",
   "execution_count": 31,
   "metadata": {},
   "outputs": [],
   "source": [
    "airbnb_location_labelled = pd.read_csv('airbnb_location_labelled.csv', names=['Original Location', 'New Location'])\n",
    "hotel_location_labelled = pd.read_csv('hotel_location_labelled.csv', names=['Original Location', 'New Location'])"
   ]
  },
  {
   "cell_type": "code",
   "execution_count": 32,
   "metadata": {},
   "outputs": [
    {
     "name": "stdout",
     "output_type": "stream",
     "text": [
      "22\n",
      "24\n"
     ]
    }
   ],
   "source": [
    "# check if number of unqiue values in each dataset exceeds 24\n",
    "print(len(df_airbnb['Location'].replace(airbnb_location_labelled['Original Location'].values, airbnb_location_labelled['New Location'].values).value_counts()))\n",
    "print(len(df_hotel['Location'].replace(hotel_location_labelled['Original Location'].values, hotel_location_labelled['New Location'].values).value_counts()))"
   ]
  },
  {
   "cell_type": "code",
   "execution_count": 33,
   "metadata": {},
   "outputs": [],
   "source": [
    "df_airbnb['Location'] = df_airbnb['Location'].replace(airbnb_location_labelled['Original Location'].values, airbnb_location_labelled['New Location'].values)\n",
    "df_hotel['Location'] = df_hotel['Location'].replace(hotel_location_labelled['Original Location'].values, hotel_location_labelled['New Location'].values)"
   ]
  },
  {
   "cell_type": "markdown",
   "metadata": {},
   "source": [
    "### Types of Stay"
   ]
  },
  {
   "cell_type": "code",
   "execution_count": 34,
   "metadata": {},
   "outputs": [],
   "source": [
    "df_airbnb['Type'] = df_airbnb['Type'].replace(['Hotel room', 'Vacation home'], ['Hotel Room', 'Holiday Home'])"
   ]
  },
  {
   "cell_type": "markdown",
   "metadata": {},
   "source": [
    "### Combining Two Datasets"
   ]
  },
  {
   "cell_type": "code",
   "execution_count": 35,
   "metadata": {},
   "outputs": [],
   "source": [
    "airbnb_label = pd.Series(['Airbnb' for _ in range(0,len(df_airbnb))])\n",
    "hotel_label = pd.Series(['Hotel' for _ in range(0,len(df_hotel))])"
   ]
  },
  {
   "cell_type": "code",
   "execution_count": 36,
   "metadata": {},
   "outputs": [],
   "source": [
    "df_airbnb = pd.concat((df_airbnb, airbnb_label), axis=1)\n",
    "df_hotel = pd.concat((df_hotel, hotel_label), axis=1)\n",
    "df_airbnb = df_airbnb.rename(columns={0:'Source'})\n",
    "df_hotel = df_hotel.rename(columns={0:'Source'})"
   ]
  },
  {
   "cell_type": "code",
   "execution_count": 37,
   "metadata": {},
   "outputs": [],
   "source": [
    "df_acm = pd.concat((df_hotel, df_airbnb), ignore_index=True)"
   ]
  },
  {
   "cell_type": "code",
   "execution_count": 38,
   "metadata": {},
   "outputs": [],
   "source": [
    "df_acm = df_acm.reindex(columns=['Source', 'Location', 'Number of Beds', 'Type', 'Price (HKD)'])"
   ]
  },
  {
   "cell_type": "code",
   "execution_count": 39,
   "metadata": {},
   "outputs": [
    {
     "data": {
      "text/html": [
       "<div>\n",
       "<style scoped>\n",
       "    .dataframe tbody tr th:only-of-type {\n",
       "        vertical-align: middle;\n",
       "    }\n",
       "\n",
       "    .dataframe tbody tr th {\n",
       "        vertical-align: top;\n",
       "    }\n",
       "\n",
       "    .dataframe thead th {\n",
       "        text-align: right;\n",
       "    }\n",
       "</style>\n",
       "<table border=\"1\" class=\"dataframe\">\n",
       "  <thead>\n",
       "    <tr style=\"text-align: right;\">\n",
       "      <th></th>\n",
       "      <th>Source</th>\n",
       "      <th>Location</th>\n",
       "      <th>Number of Beds</th>\n",
       "      <th>Type</th>\n",
       "      <th>Price (HKD)</th>\n",
       "    </tr>\n",
       "  </thead>\n",
       "  <tbody>\n",
       "    <tr>\n",
       "      <th>0</th>\n",
       "      <td>Hotel</td>\n",
       "      <td>Kita</td>\n",
       "      <td>NaN</td>\n",
       "      <td>Apartment</td>\n",
       "      <td>589.0</td>\n",
       "    </tr>\n",
       "    <tr>\n",
       "      <th>1</th>\n",
       "      <td>Hotel</td>\n",
       "      <td>Taito</td>\n",
       "      <td>2</td>\n",
       "      <td>Hotel Room</td>\n",
       "      <td>621.0</td>\n",
       "    </tr>\n",
       "    <tr>\n",
       "      <th>2</th>\n",
       "      <td>Hotel</td>\n",
       "      <td>Shinagawa</td>\n",
       "      <td>NaN</td>\n",
       "      <td>Apartment</td>\n",
       "      <td>1807.0</td>\n",
       "    </tr>\n",
       "    <tr>\n",
       "      <th>3</th>\n",
       "      <td>Hotel</td>\n",
       "      <td>Sumida</td>\n",
       "      <td>NaN</td>\n",
       "      <td>Apartment</td>\n",
       "      <td>811.0</td>\n",
       "    </tr>\n",
       "    <tr>\n",
       "      <th>4</th>\n",
       "      <td>Hotel</td>\n",
       "      <td>Taito</td>\n",
       "      <td>1</td>\n",
       "      <td>Hotel Room</td>\n",
       "      <td>378.0</td>\n",
       "    </tr>\n",
       "  </tbody>\n",
       "</table>\n",
       "</div>"
      ],
      "text/plain": [
       "  Source   Location Number of Beds        Type  Price (HKD)\n",
       "0  Hotel       Kita            NaN   Apartment        589.0\n",
       "1  Hotel      Taito              2  Hotel Room        621.0\n",
       "2  Hotel  Shinagawa            NaN   Apartment       1807.0\n",
       "3  Hotel     Sumida            NaN   Apartment        811.0\n",
       "4  Hotel      Taito              1  Hotel Room        378.0"
      ]
     },
     "execution_count": 39,
     "metadata": {},
     "output_type": "execute_result"
    }
   ],
   "source": [
    "df_acm.head()"
   ]
  },
  {
   "cell_type": "code",
   "execution_count": 40,
   "metadata": {},
   "outputs": [
    {
     "data": {
      "text/plain": [
       "(1300, 5)"
      ]
     },
     "execution_count": 40,
     "metadata": {},
     "output_type": "execute_result"
    }
   ],
   "source": [
    "df_acm.shape"
   ]
  },
  {
   "cell_type": "code",
   "execution_count": 41,
   "metadata": {},
   "outputs": [],
   "source": [
    "df_acm['Number of Beds'] = df_acm['Number of Beds'].astype('float64')"
   ]
  },
  {
   "cell_type": "code",
   "execution_count": 42,
   "metadata": {},
   "outputs": [],
   "source": [
    "df_acm.to_csv('accommodation.csv', sep=',', index=False)"
   ]
  }
 ],
 "metadata": {
  "kernelspec": {
   "display_name": "Python 3.9.7 64-bit",
   "language": "python",
   "name": "python3"
  },
  "language_info": {
   "codemirror_mode": {
    "name": "ipython",
    "version": 3
   },
   "file_extension": ".py",
   "mimetype": "text/x-python",
   "name": "python",
   "nbconvert_exporter": "python",
   "pygments_lexer": "ipython3",
   "version": "3.9.7"
  },
  "orig_nbformat": 4,
  "vscode": {
   "interpreter": {
    "hash": "b1ffc42b7688ee54d4509547a2cb46af3c49bac4d5c1def4786231871a29c157"
   }
  }
 },
 "nbformat": 4,
 "nbformat_minor": 2
}
